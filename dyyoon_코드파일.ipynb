{
 "cells": [
  {
   "cell_type": "markdown",
   "metadata": {},
   "source": [
    "# dyyoon"
   ]
  },
  {
   "cell_type": "markdown",
   "metadata": {},
   "source": [
    "# 0.개발환경"
   ]
  },
  {
   "cell_type": "markdown",
   "metadata": {},
   "source": [
    "Windows 10, Python 3.6.9, Scikit-learn 0.23.2 <br>\n",
    "pandas 1.1.5, numpy 1.18.5, scipy 1.4.1"
   ]
  },
  {
   "cell_type": "code",
   "execution_count": 2,
   "metadata": {},
   "outputs": [
    {
     "name": "stdout",
     "output_type": "stream",
     "text": [
      "\n",
      "INSTALLED VERSIONS\n",
      "------------------\n",
      "commit           : b5958ee1999e9aead1938c0bba2b674378807b3d\n",
      "python           : 3.6.9.final.0\n",
      "python-bits      : 64\n",
      "OS               : Linux\n",
      "OS-release       : 5.8.0-43-generic\n",
      "Version          : #49~20.04.1-Ubuntu SMP Fri Feb 5 09:57:56 UTC 2021\n",
      "machine          : x86_64\n",
      "processor        : x86_64\n",
      "byteorder        : little\n",
      "LC_ALL           : None\n",
      "LANG             : C.UTF-8\n",
      "LOCALE           : en_US.UTF-8\n",
      "\n",
      "pandas           : 1.1.5\n",
      "numpy            : 1.18.5\n",
      "pytz             : 2021.1\n",
      "dateutil         : 2.8.1\n",
      "pip              : 21.0.1\n",
      "setuptools       : 47.3.1\n",
      "Cython           : None\n",
      "pytest           : None\n",
      "hypothesis       : None\n",
      "sphinx           : None\n",
      "blosc            : None\n",
      "feather          : None\n",
      "xlsxwriter       : None\n",
      "lxml.etree       : None\n",
      "html5lib         : None\n",
      "pymysql          : None\n",
      "psycopg2         : None\n",
      "jinja2           : 2.11.2\n",
      "IPython          : 7.16.1\n",
      "pandas_datareader: None\n",
      "bs4              : None\n",
      "bottleneck       : None\n",
      "fsspec           : None\n",
      "fastparquet      : None\n",
      "gcsfs            : None\n",
      "matplotlib       : 3.2.2\n",
      "numexpr          : 2.7.2\n",
      "odfpy            : None\n",
      "openpyxl         : None\n",
      "pandas_gbq       : None\n",
      "pyarrow          : None\n",
      "pytables         : None\n",
      "pyxlsb           : None\n",
      "s3fs             : None\n",
      "scipy            : 1.4.1\n",
      "sqlalchemy       : 1.3.23\n",
      "tables           : None\n",
      "tabulate         : 0.8.8\n",
      "xarray           : None\n",
      "xlrd             : None\n",
      "xlwt             : None\n",
      "numba            : 0.52.0\n"
     ]
    }
   ],
   "source": [
    "pd.show_versions()"
   ]
  },
  {
   "cell_type": "markdown",
   "metadata": {},
   "source": [
    "# 1. 데이터로드"
   ]
  },
  {
   "cell_type": "code",
   "execution_count": 1,
   "metadata": {},
   "outputs": [],
   "source": [
    "import pandas as pd\n",
    "pd.options.display.float_format='{:.5f}'.format # 5자리까지출력\n",
    "\n",
    "import warnings\n",
    "warnings.filterwarnings(action='ignore') # 에러는 무시\n",
    "\n",
    "train = pd.read_csv('data/train.csv')\n",
    "valid = pd.read_csv('data/validation.csv')\n",
    "test = pd.read_csv('data/test.csv')"
   ]
  },
  {
   "cell_type": "code",
   "execution_count": 2,
   "metadata": {},
   "outputs": [
    {
     "name": "stdout",
     "output_type": "stream",
     "text": [
      "<class 'pandas.core.frame.DataFrame'>\n",
      "RangeIndex: 2536535 entries, 0 to 2536534\n",
      "Data columns (total 19 columns):\n",
      " #   Column                 Dtype  \n",
      "---  ------                 -----  \n",
      " 0   click_timestamp        int64  \n",
      " 1   integer_feature_1      float64\n",
      " 2   integer_feature_2      float64\n",
      " 3   integer_feature_3      int64  \n",
      " 4   integer_feature_4      float64\n",
      " 5   integer_feature_5      int64  \n",
      " 6   integer_feature_6      float64\n",
      " 7   integer_feature_7      float64\n",
      " 8   integer_feature_8      float64\n",
      " 9   categorical_feature_1  object \n",
      " 10  categorical_feature_2  object \n",
      " 11  categorical_feature_3  object \n",
      " 12  categorical_feature_4  object \n",
      " 13  categorical_feature_5  object \n",
      " 14  categorical_feature_6  object \n",
      " 15  categorical_feature_7  object \n",
      " 16  categorical_feature_8  object \n",
      " 17  categorical_feature_9  object \n",
      " 18  label                  int64  \n",
      "dtypes: float64(6), int64(4), object(9)\n",
      "memory usage: 367.7+ MB\n"
     ]
    }
   ],
   "source": [
    "train.info() #간단한 정보 확인"
   ]
  },
  {
   "cell_type": "markdown",
   "metadata": {},
   "source": [
    "# 2. EDA 및 데이터 기초통계 분석\n",
    "- 기초통계 확인 및 종속변수 분포확인\n",
    "- 정수형변수들간의 상관성 \n",
    "- 범주형변수들간의 상관성 \n",
    "- 결측치 처리\n",
    "- 클릭발생시간의 분포\n",
    "- 이상치확인\n",
    "- 구매, 비구매를 잘 구분하는 중요한 변수는? --> 변수중요도 확인"
   ]
  },
  {
   "cell_type": "code",
   "execution_count": 79,
   "metadata": {},
   "outputs": [
    {
     "data": {
      "text/html": [
       "<div>\n",
       "<style scoped>\n",
       "    .dataframe tbody tr th:only-of-type {\n",
       "        vertical-align: middle;\n",
       "    }\n",
       "\n",
       "    .dataframe tbody tr th {\n",
       "        vertical-align: top;\n",
       "    }\n",
       "\n",
       "    .dataframe thead th {\n",
       "        text-align: right;\n",
       "    }\n",
       "</style>\n",
       "<table border=\"1\" class=\"dataframe\">\n",
       "  <thead>\n",
       "    <tr style=\"text-align: right;\">\n",
       "      <th></th>\n",
       "      <th>click_timestamp</th>\n",
       "      <th>integer_feature_1</th>\n",
       "      <th>integer_feature_2</th>\n",
       "      <th>integer_feature_3</th>\n",
       "      <th>integer_feature_4</th>\n",
       "      <th>integer_feature_5</th>\n",
       "      <th>integer_feature_6</th>\n",
       "      <th>integer_feature_7</th>\n",
       "      <th>integer_feature_8</th>\n",
       "      <th>categorical_feature_1</th>\n",
       "      <th>categorical_feature_2</th>\n",
       "      <th>categorical_feature_3</th>\n",
       "      <th>categorical_feature_4</th>\n",
       "      <th>categorical_feature_5</th>\n",
       "      <th>categorical_feature_6</th>\n",
       "      <th>categorical_feature_7</th>\n",
       "      <th>categorical_feature_8</th>\n",
       "      <th>categorical_feature_9</th>\n",
       "      <th>label</th>\n",
       "    </tr>\n",
       "  </thead>\n",
       "  <tbody>\n",
       "    <tr>\n",
       "      <th>count</th>\n",
       "      <td>2029228.00000</td>\n",
       "      <td>2029228.00000</td>\n",
       "      <td>2029228.00000</td>\n",
       "      <td>2029228.00000</td>\n",
       "      <td>2029228.00000</td>\n",
       "      <td>2029228.00000</td>\n",
       "      <td>2029228.00000</td>\n",
       "      <td>2029228.00000</td>\n",
       "      <td>2029228.00000</td>\n",
       "      <td>2029228.00000</td>\n",
       "      <td>2029228.00000</td>\n",
       "      <td>2029228.00000</td>\n",
       "      <td>2029228.00000</td>\n",
       "      <td>2029228.00000</td>\n",
       "      <td>2029228.00000</td>\n",
       "      <td>2029228.00000</td>\n",
       "      <td>2029228.00000</td>\n",
       "      <td>2029228.00000</td>\n",
       "      <td>2029228.00000</td>\n",
       "    </tr>\n",
       "    <tr>\n",
       "      <th>mean</th>\n",
       "      <td>437123.97405</td>\n",
       "      <td>0.00084</td>\n",
       "      <td>0.00518</td>\n",
       "      <td>0.02393</td>\n",
       "      <td>0.00050</td>\n",
       "      <td>0.02612</td>\n",
       "      <td>0.00106</td>\n",
       "      <td>0.00340</td>\n",
       "      <td>0.00257</td>\n",
       "      <td>19081.21146</td>\n",
       "      <td>2111.89373</td>\n",
       "      <td>5335.59418</td>\n",
       "      <td>4087.15562</td>\n",
       "      <td>1484.91034</td>\n",
       "      <td>1240.75603</td>\n",
       "      <td>4785.96810</td>\n",
       "      <td>6.49068</td>\n",
       "      <td>1025.67435</td>\n",
       "      <td>0.22162</td>\n",
       "    </tr>\n",
       "    <tr>\n",
       "      <th>std</th>\n",
       "      <td>243013.13551</td>\n",
       "      <td>0.00535</td>\n",
       "      <td>0.01894</td>\n",
       "      <td>0.09126</td>\n",
       "      <td>0.00353</td>\n",
       "      <td>0.09705</td>\n",
       "      <td>0.00319</td>\n",
       "      <td>0.01357</td>\n",
       "      <td>0.00804</td>\n",
       "      <td>10684.31681</td>\n",
       "      <td>1188.88186</td>\n",
       "      <td>3105.59760</td>\n",
       "      <td>2427.84460</td>\n",
       "      <td>812.54401</td>\n",
       "      <td>3430.53942</td>\n",
       "      <td>2959.31018</td>\n",
       "      <td>3.20324</td>\n",
       "      <td>2184.95484</td>\n",
       "      <td>0.41533</td>\n",
       "    </tr>\n",
       "    <tr>\n",
       "      <th>min</th>\n",
       "      <td>7.00000</td>\n",
       "      <td>0.00000</td>\n",
       "      <td>0.00000</td>\n",
       "      <td>0.00000</td>\n",
       "      <td>0.00000</td>\n",
       "      <td>0.00000</td>\n",
       "      <td>0.00000</td>\n",
       "      <td>0.00000</td>\n",
       "      <td>0.00000</td>\n",
       "      <td>0.00000</td>\n",
       "      <td>0.00000</td>\n",
       "      <td>0.00000</td>\n",
       "      <td>0.00000</td>\n",
       "      <td>0.00000</td>\n",
       "      <td>0.00000</td>\n",
       "      <td>0.00000</td>\n",
       "      <td>0.00000</td>\n",
       "      <td>0.00000</td>\n",
       "      <td>0.00000</td>\n",
       "    </tr>\n",
       "    <tr>\n",
       "      <th>25%</th>\n",
       "      <td>227965.00000</td>\n",
       "      <td>0.00000</td>\n",
       "      <td>0.00000</td>\n",
       "      <td>0.00000</td>\n",
       "      <td>0.00000</td>\n",
       "      <td>0.00000</td>\n",
       "      <td>0.00000</td>\n",
       "      <td>0.00003</td>\n",
       "      <td>0.00014</td>\n",
       "      <td>9892.00000</td>\n",
       "      <td>1097.00000</td>\n",
       "      <td>2811.00000</td>\n",
       "      <td>1933.00000</td>\n",
       "      <td>788.00000</td>\n",
       "      <td>0.00000</td>\n",
       "      <td>2143.00000</td>\n",
       "      <td>4.00000</td>\n",
       "      <td>0.00000</td>\n",
       "      <td>0.00000</td>\n",
       "    </tr>\n",
       "    <tr>\n",
       "      <th>50%</th>\n",
       "      <td>454883.00000</td>\n",
       "      <td>0.00000</td>\n",
       "      <td>0.00000</td>\n",
       "      <td>0.00000</td>\n",
       "      <td>0.00000</td>\n",
       "      <td>0.00000</td>\n",
       "      <td>0.00000</td>\n",
       "      <td>0.00067</td>\n",
       "      <td>0.00070</td>\n",
       "      <td>18848.00000</td>\n",
       "      <td>2184.00000</td>\n",
       "      <td>5321.00000</td>\n",
       "      <td>4158.00000</td>\n",
       "      <td>1439.00000</td>\n",
       "      <td>0.00000</td>\n",
       "      <td>4519.00000</td>\n",
       "      <td>9.00000</td>\n",
       "      <td>0.00000</td>\n",
       "      <td>0.00000</td>\n",
       "    </tr>\n",
       "    <tr>\n",
       "      <th>75%</th>\n",
       "      <td>645266.00000</td>\n",
       "      <td>0.00000</td>\n",
       "      <td>0.00000</td>\n",
       "      <td>0.00000</td>\n",
       "      <td>0.00000</td>\n",
       "      <td>0.00000</td>\n",
       "      <td>0.00097</td>\n",
       "      <td>0.00273</td>\n",
       "      <td>0.00224</td>\n",
       "      <td>28303.00000</td>\n",
       "      <td>3126.00000</td>\n",
       "      <td>7997.00000</td>\n",
       "      <td>6166.00000</td>\n",
       "      <td>2220.00000</td>\n",
       "      <td>0.00000</td>\n",
       "      <td>7433.00000</td>\n",
       "      <td>9.00000</td>\n",
       "      <td>0.00000</td>\n",
       "      <td>0.00000</td>\n",
       "    </tr>\n",
       "    <tr>\n",
       "      <th>max</th>\n",
       "      <td>863999.00000</td>\n",
       "      <td>1.00000</td>\n",
       "      <td>1.00000</td>\n",
       "      <td>0.99836</td>\n",
       "      <td>1.00000</td>\n",
       "      <td>0.99507</td>\n",
       "      <td>0.99742</td>\n",
       "      <td>1.00000</td>\n",
       "      <td>1.00000</td>\n",
       "      <td>37773.00000</td>\n",
       "      <td>4140.00000</td>\n",
       "      <td>10877.00000</td>\n",
       "      <td>8070.00000</td>\n",
       "      <td>2852.00000</td>\n",
       "      <td>16489.00000</td>\n",
       "      <td>9822.00000</td>\n",
       "      <td>9.00000</td>\n",
       "      <td>8710.00000</td>\n",
       "      <td>1.00000</td>\n",
       "    </tr>\n",
       "  </tbody>\n",
       "</table>\n",
       "</div>"
      ],
      "text/plain": [
       "       click_timestamp  integer_feature_1  integer_feature_2  \\\n",
       "count    2029228.00000      2029228.00000      2029228.00000   \n",
       "mean      437123.97405            0.00084            0.00518   \n",
       "std       243013.13551            0.00535            0.01894   \n",
       "min            7.00000            0.00000            0.00000   \n",
       "25%       227965.00000            0.00000            0.00000   \n",
       "50%       454883.00000            0.00000            0.00000   \n",
       "75%       645266.00000            0.00000            0.00000   \n",
       "max       863999.00000            1.00000            1.00000   \n",
       "\n",
       "       integer_feature_3  integer_feature_4  integer_feature_5  \\\n",
       "count      2029228.00000      2029228.00000      2029228.00000   \n",
       "mean             0.02393            0.00050            0.02612   \n",
       "std              0.09126            0.00353            0.09705   \n",
       "min              0.00000            0.00000            0.00000   \n",
       "25%              0.00000            0.00000            0.00000   \n",
       "50%              0.00000            0.00000            0.00000   \n",
       "75%              0.00000            0.00000            0.00000   \n",
       "max              0.99836            1.00000            0.99507   \n",
       "\n",
       "       integer_feature_6  integer_feature_7  integer_feature_8  \\\n",
       "count      2029228.00000      2029228.00000      2029228.00000   \n",
       "mean             0.00106            0.00340            0.00257   \n",
       "std              0.00319            0.01357            0.00804   \n",
       "min              0.00000            0.00000            0.00000   \n",
       "25%              0.00000            0.00003            0.00014   \n",
       "50%              0.00000            0.00067            0.00070   \n",
       "75%              0.00097            0.00273            0.00224   \n",
       "max              0.99742            1.00000            1.00000   \n",
       "\n",
       "       categorical_feature_1  categorical_feature_2  categorical_feature_3  \\\n",
       "count          2029228.00000          2029228.00000          2029228.00000   \n",
       "mean             19081.21146             2111.89373             5335.59418   \n",
       "std              10684.31681             1188.88186             3105.59760   \n",
       "min                  0.00000                0.00000                0.00000   \n",
       "25%               9892.00000             1097.00000             2811.00000   \n",
       "50%              18848.00000             2184.00000             5321.00000   \n",
       "75%              28303.00000             3126.00000             7997.00000   \n",
       "max              37773.00000             4140.00000            10877.00000   \n",
       "\n",
       "       categorical_feature_4  categorical_feature_5  categorical_feature_6  \\\n",
       "count          2029228.00000          2029228.00000          2029228.00000   \n",
       "mean              4087.15562             1484.91034             1240.75603   \n",
       "std               2427.84460              812.54401             3430.53942   \n",
       "min                  0.00000                0.00000                0.00000   \n",
       "25%               1933.00000              788.00000                0.00000   \n",
       "50%               4158.00000             1439.00000                0.00000   \n",
       "75%               6166.00000             2220.00000                0.00000   \n",
       "max               8070.00000             2852.00000            16489.00000   \n",
       "\n",
       "       categorical_feature_7  categorical_feature_8  categorical_feature_9  \\\n",
       "count          2029228.00000          2029228.00000          2029228.00000   \n",
       "mean              4785.96810                6.49068             1025.67435   \n",
       "std               2959.31018                3.20324             2184.95484   \n",
       "min                  0.00000                0.00000                0.00000   \n",
       "25%               2143.00000                4.00000                0.00000   \n",
       "50%               4519.00000                9.00000                0.00000   \n",
       "75%               7433.00000                9.00000                0.00000   \n",
       "max               9822.00000                9.00000             8710.00000   \n",
       "\n",
       "              label  \n",
       "count 2029228.00000  \n",
       "mean        0.22162  \n",
       "std         0.41533  \n",
       "min         0.00000  \n",
       "25%         0.00000  \n",
       "50%         0.00000  \n",
       "75%         0.00000  \n",
       "max         1.00000  "
      ]
     },
     "execution_count": 79,
     "metadata": {},
     "output_type": "execute_result"
    }
   ],
   "source": [
    "train.describe()"
   ]
  },
  {
   "cell_type": "code",
   "execution_count": null,
   "metadata": {},
   "outputs": [],
   "source": [
    "valid.describe()"
   ]
  },
  {
   "cell_type": "markdown",
   "metadata": {},
   "source": [
    "정수형변수들의 범위가 다 다름을 확인 스케일링이 필요할 듯 함.<br>\n",
    "정수형변수 3, 정수형변수 5는 비슷한 분포를 가지는 것으로 생각됨(평균과 표준편차 그리고 최대 최소가 비슷함)"
   ]
  },
  {
   "cell_type": "markdown",
   "metadata": {},
   "source": [
    "## 종속변수 분포 확인 "
   ]
  },
  {
   "cell_type": "code",
   "execution_count": 4,
   "metadata": {},
   "outputs": [
    {
     "data": {
      "text/plain": [
       "<matplotlib.axes._subplots.AxesSubplot at 0x7f44ace931d0>"
      ]
     },
     "execution_count": 4,
     "metadata": {},
     "output_type": "execute_result"
    },
    {
     "data": {
      "image/png": "[encoded data removed]",
      "text/plain": [
       "<Figure size 432x288 with 1 Axes>"
      ]
     },
     "metadata": {
      "needs_background": "light"
     },
     "output_type": "display_data"
    }
   ],
   "source": [
    "# 종속변수 체크\n",
    "train['label'].value_counts().plot(kind='bar')"
   ]
  },
  {
   "cell_type": "code",
   "execution_count": 5,
   "metadata": {},
   "outputs": [
    {
     "data": {
      "text/plain": [
       "0    1974288\n",
       "1     562247\n",
       "Name: label, dtype: int64"
      ]
     },
     "execution_count": 5,
     "metadata": {},
     "output_type": "execute_result"
    }
   ],
   "source": [
    "train['label'].value_counts()"
   ]
  },
  {
   "cell_type": "markdown",
   "metadata": {},
   "source": [
    "상대적으로 0이 많음 "
   ]
  },
  {
   "cell_type": "markdown",
   "metadata": {},
   "source": [
    "## 정수형변수들간의 상관성\n",
    "- train , valid 확인"
   ]
  },
  {
   "cell_type": "code",
   "execution_count": 9,
   "metadata": {},
   "outputs": [
    {
     "data": {
      "text/plain": [
       "<matplotlib.axes._subplots.AxesSubplot at 0x7f146b0ef198>"
      ]
     },
     "execution_count": 9,
     "metadata": {},
     "output_type": "execute_result"
    },
    {
     "data": {
      "image/png": "[encoded data removed]",
      "text/plain": [
       "<Figure size 720x504 with 2 Axes>"
      ]
     },
     "metadata": {
      "needs_background": "light"
     },
     "output_type": "display_data"
    }
   ],
   "source": [
    "import seaborn as sns\n",
    "import matplotlib.pyplot as plt\n",
    "corr = train.iloc[:,1:].corr()\n",
    "cmap = sns.color_palette('Blues')\n",
    "f, ax = plt.subplots(figsize = (10,7))\n",
    "sns.heatmap(corr, cmap= cmap,annot = True)"
   ]
  },
  {
   "cell_type": "code",
   "execution_count": 10,
   "metadata": {},
   "outputs": [
    {
     "data": {
      "text/plain": [
       "<matplotlib.axes._subplots.AxesSubplot at 0x7f146af71e48>"
      ]
     },
     "execution_count": 10,
     "metadata": {},
     "output_type": "execute_result"
    },
    {
     "data": {
      "image/png": "[encoded data removed]",
      "text/plain": [
       "<Figure size 720x504 with 2 Axes>"
      ]
     },
     "metadata": {
      "needs_background": "light"
     },
     "output_type": "display_data"
    }
   ],
   "source": [
    "corr = valid.iloc[:,1:].corr()\n",
    "cmap = sns.color_palette('Blues')\n",
    "f, ax = plt.subplots(figsize = (10,7))\n",
    "sns.heatmap(corr, cmap= cmap,annot = True)"
   ]
  },
  {
   "cell_type": "markdown",
   "metadata": {},
   "source": [
    "정수형변수 1, 정수형변수 2간의 상관성이 0.58로 양의 상관성이있음을 확인"
   ]
  },
  {
   "cell_type": "markdown",
   "metadata": {},
   "source": [
    "## 범주형 변수들의 상관성\n",
    "- train, valid 확인"
   ]
  },
  {
   "cell_type": "code",
   "execution_count": 11,
   "metadata": {},
   "outputs": [
    {
     "name": "stdout",
     "output_type": "stream",
     "text": [
      "categorical_feature_1 귀무가설기각, 관련성이 있다\n",
      "categorical_feature_2 귀무가설기각, 관련성이 있다\n",
      "categorical_feature_3 귀무가설기각, 관련성이 있다\n",
      "categorical_feature_4 귀무가설기각, 관련성이 있다\n",
      "categorical_feature_5 귀무가설기각, 관련성이 있다\n",
      "categorical_feature_6 귀무가설기각, 관련성이 있다\n",
      "categorical_feature_7 귀무가설기각, 관련성이 있다\n",
      "categorical_feature_8 귀무가설기각, 관련성이 있다\n",
      "categorical_feature_9 귀무가설기각, 관련성이 있다\n"
     ]
    }
   ],
   "source": [
    "# ho: label과 범주형변수1과 관계가 없다.\n",
    "# h1: label과 범주형변수1과 관계가 있다.\n",
    "import scipy.stats as stats\n",
    "\n",
    "cate = [col for c, col in enumerate(train.columns) if 'cat' in col]\n",
    "for k in cate:\n",
    "    # 두 질적자료의 빈도표를 생성\n",
    "    train_corr = pd.crosstab(train.label, train[k])\n",
    "    chiresult = stats.chi2_contingency(observed = train_corr )\n",
    "    if chiresult[1] < 0.05:\n",
    "        print(k, '귀무가설기각, 관련성이 있다')\n",
    "    else:\n",
    "        print(k, '귀무가설채택, 관련성이 없다')"
   ]
  },
  {
   "cell_type": "code",
   "execution_count": 12,
   "metadata": {},
   "outputs": [
    {
     "name": "stdout",
     "output_type": "stream",
     "text": [
      "categorical_feature_1 귀무가설기각, 관련성이 있다\n",
      "categorical_feature_2 귀무가설기각, 관련성이 있다\n",
      "categorical_feature_3 귀무가설기각, 관련성이 있다\n",
      "categorical_feature_4 귀무가설기각, 관련성이 있다\n",
      "categorical_feature_5 귀무가설기각, 관련성이 있다\n",
      "categorical_feature_6 귀무가설기각, 관련성이 있다\n",
      "categorical_feature_7 귀무가설기각, 관련성이 있다\n",
      "categorical_feature_8 귀무가설기각, 관련성이 있다\n",
      "categorical_feature_9 귀무가설기각, 관련성이 있다\n"
     ]
    }
   ],
   "source": [
    "cate = [col for c, col in enumerate(valid.columns) if 'cat' in col]\n",
    "for k in cate:\n",
    "    # 두 질적자료의 빈도표를 생성\n",
    "    valid_corr = pd.crosstab(valid.label, valid[k])\n",
    "    chiresult = stats.chi2_contingency(observed = valid_corr )\n",
    "    if chiresult[1] < 0.05:\n",
    "        print(k, '귀무가설기각, 관련성이 있다')\n",
    "    else:\n",
    "        print(k, '귀무가설채택, 관련성이 없다')"
   ]
  },
  {
   "cell_type": "markdown",
   "metadata": {},
   "source": [
    "범주형변수(독립변수)는 label(종속변수)와 모두 관련성이 있음을 확인 "
   ]
  },
  {
   "cell_type": "markdown",
   "metadata": {},
   "source": [
    "## 결측치"
   ]
  },
  {
   "cell_type": "code",
   "execution_count": 13,
   "metadata": {},
   "outputs": [
    {
     "data": {
      "text/html": [
       "<div>\n",
       "<style scoped>\n",
       "    .dataframe tbody tr th:only-of-type {\n",
       "        vertical-align: middle;\n",
       "    }\n",
       "\n",
       "    .dataframe tbody tr th {\n",
       "        vertical-align: top;\n",
       "    }\n",
       "\n",
       "    .dataframe thead th {\n",
       "        text-align: right;\n",
       "    }\n",
       "</style>\n",
       "<table border=\"1\" class=\"dataframe\">\n",
       "  <thead>\n",
       "    <tr style=\"text-align: right;\">\n",
       "      <th></th>\n",
       "      <th>column</th>\n",
       "      <th>count</th>\n",
       "      <th>ratio</th>\n",
       "    </tr>\n",
       "  </thead>\n",
       "  <tbody>\n",
       "    <tr>\n",
       "      <th>0</th>\n",
       "      <td>click_timestamp</td>\n",
       "      <td>0</td>\n",
       "      <td>0.00000</td>\n",
       "    </tr>\n",
       "    <tr>\n",
       "      <th>1</th>\n",
       "      <td>integer_feature_1</td>\n",
       "      <td>1911358</td>\n",
       "      <td>0.75353</td>\n",
       "    </tr>\n",
       "    <tr>\n",
       "      <th>2</th>\n",
       "      <td>integer_feature_2</td>\n",
       "      <td>30869</td>\n",
       "      <td>0.01217</td>\n",
       "    </tr>\n",
       "    <tr>\n",
       "      <th>3</th>\n",
       "      <td>integer_feature_3</td>\n",
       "      <td>0</td>\n",
       "      <td>0.00000</td>\n",
       "    </tr>\n",
       "    <tr>\n",
       "      <th>4</th>\n",
       "      <td>integer_feature_4</td>\n",
       "      <td>1911358</td>\n",
       "      <td>0.75353</td>\n",
       "    </tr>\n",
       "    <tr>\n",
       "      <th>5</th>\n",
       "      <td>integer_feature_5</td>\n",
       "      <td>0</td>\n",
       "      <td>0.00000</td>\n",
       "    </tr>\n",
       "    <tr>\n",
       "      <th>6</th>\n",
       "      <td>integer_feature_6</td>\n",
       "      <td>830322</td>\n",
       "      <td>0.32734</td>\n",
       "    </tr>\n",
       "    <tr>\n",
       "      <th>7</th>\n",
       "      <td>integer_feature_7</td>\n",
       "      <td>18263</td>\n",
       "      <td>0.00720</td>\n",
       "    </tr>\n",
       "    <tr>\n",
       "      <th>8</th>\n",
       "      <td>integer_feature_8</td>\n",
       "      <td>30869</td>\n",
       "      <td>0.01217</td>\n",
       "    </tr>\n",
       "    <tr>\n",
       "      <th>9</th>\n",
       "      <td>categorical_feature_1</td>\n",
       "      <td>0</td>\n",
       "      <td>0.00000</td>\n",
       "    </tr>\n",
       "    <tr>\n",
       "      <th>10</th>\n",
       "      <td>categorical_feature_2</td>\n",
       "      <td>0</td>\n",
       "      <td>0.00000</td>\n",
       "    </tr>\n",
       "    <tr>\n",
       "      <th>11</th>\n",
       "      <td>categorical_feature_3</td>\n",
       "      <td>0</td>\n",
       "      <td>0.00000</td>\n",
       "    </tr>\n",
       "    <tr>\n",
       "      <th>12</th>\n",
       "      <td>categorical_feature_4</td>\n",
       "      <td>30869</td>\n",
       "      <td>0.01217</td>\n",
       "    </tr>\n",
       "    <tr>\n",
       "      <th>13</th>\n",
       "      <td>categorical_feature_5</td>\n",
       "      <td>0</td>\n",
       "      <td>0.00000</td>\n",
       "    </tr>\n",
       "    <tr>\n",
       "      <th>14</th>\n",
       "      <td>categorical_feature_6</td>\n",
       "      <td>2144891</td>\n",
       "      <td>0.84560</td>\n",
       "    </tr>\n",
       "    <tr>\n",
       "      <th>15</th>\n",
       "      <td>categorical_feature_7</td>\n",
       "      <td>0</td>\n",
       "      <td>0.00000</td>\n",
       "    </tr>\n",
       "    <tr>\n",
       "      <th>16</th>\n",
       "      <td>categorical_feature_8</td>\n",
       "      <td>0</td>\n",
       "      <td>0.00000</td>\n",
       "    </tr>\n",
       "    <tr>\n",
       "      <th>17</th>\n",
       "      <td>categorical_feature_9</td>\n",
       "      <td>1911358</td>\n",
       "      <td>0.75353</td>\n",
       "    </tr>\n",
       "    <tr>\n",
       "      <th>18</th>\n",
       "      <td>label</td>\n",
       "      <td>0</td>\n",
       "      <td>0.00000</td>\n",
       "    </tr>\n",
       "  </tbody>\n",
       "</table>\n",
       "</div>"
      ],
      "text/plain": [
       "                   column    count   ratio\n",
       "0         click_timestamp        0 0.00000\n",
       "1       integer_feature_1  1911358 0.75353\n",
       "2       integer_feature_2    30869 0.01217\n",
       "3       integer_feature_3        0 0.00000\n",
       "4       integer_feature_4  1911358 0.75353\n",
       "5       integer_feature_5        0 0.00000\n",
       "6       integer_feature_6   830322 0.32734\n",
       "7       integer_feature_7    18263 0.00720\n",
       "8       integer_feature_8    30869 0.01217\n",
       "9   categorical_feature_1        0 0.00000\n",
       "10  categorical_feature_2        0 0.00000\n",
       "11  categorical_feature_3        0 0.00000\n",
       "12  categorical_feature_4    30869 0.01217\n",
       "13  categorical_feature_5        0 0.00000\n",
       "14  categorical_feature_6  2144891 0.84560\n",
       "15  categorical_feature_7        0 0.00000\n",
       "16  categorical_feature_8        0 0.00000\n",
       "17  categorical_feature_9  1911358 0.75353\n",
       "18                  label        0 0.00000"
      ]
     },
     "execution_count": 13,
     "metadata": {},
     "output_type": "execute_result"
    }
   ],
   "source": [
    "train.isnull().sum() # 결측치\n",
    "\n",
    "missdf  = train.isnull().sum().reset_index()  # 결측치 비율\n",
    "missdf.columns = ['column','count']  \n",
    "missdf['ratio'] = missdf['count']/train.shape[0]\n",
    "missdf"
   ]
  },
  {
   "cell_type": "code",
   "execution_count": 14,
   "metadata": {},
   "outputs": [
    {
     "data": {
      "text/html": [
       "<div>\n",
       "<style scoped>\n",
       "    .dataframe tbody tr th:only-of-type {\n",
       "        vertical-align: middle;\n",
       "    }\n",
       "\n",
       "    .dataframe tbody tr th {\n",
       "        vertical-align: top;\n",
       "    }\n",
       "\n",
       "    .dataframe thead th {\n",
       "        text-align: right;\n",
       "    }\n",
       "</style>\n",
       "<table border=\"1\" class=\"dataframe\">\n",
       "  <thead>\n",
       "    <tr style=\"text-align: right;\">\n",
       "      <th></th>\n",
       "      <th>column</th>\n",
       "      <th>count</th>\n",
       "      <th>ratio</th>\n",
       "    </tr>\n",
       "  </thead>\n",
       "  <tbody>\n",
       "    <tr>\n",
       "      <th>0</th>\n",
       "      <td>click_timestamp</td>\n",
       "      <td>0</td>\n",
       "      <td>0.00000</td>\n",
       "    </tr>\n",
       "    <tr>\n",
       "      <th>1</th>\n",
       "      <td>integer_feature_1</td>\n",
       "      <td>369040</td>\n",
       "      <td>0.74734</td>\n",
       "    </tr>\n",
       "    <tr>\n",
       "      <th>2</th>\n",
       "      <td>integer_feature_2</td>\n",
       "      <td>4884</td>\n",
       "      <td>0.00989</td>\n",
       "    </tr>\n",
       "    <tr>\n",
       "      <th>3</th>\n",
       "      <td>integer_feature_3</td>\n",
       "      <td>0</td>\n",
       "      <td>0.00000</td>\n",
       "    </tr>\n",
       "    <tr>\n",
       "      <th>4</th>\n",
       "      <td>integer_feature_4</td>\n",
       "      <td>369040</td>\n",
       "      <td>0.74734</td>\n",
       "    </tr>\n",
       "    <tr>\n",
       "      <th>5</th>\n",
       "      <td>integer_feature_5</td>\n",
       "      <td>0</td>\n",
       "      <td>0.00000</td>\n",
       "    </tr>\n",
       "    <tr>\n",
       "      <th>6</th>\n",
       "      <td>integer_feature_6</td>\n",
       "      <td>175826</td>\n",
       "      <td>0.35607</td>\n",
       "    </tr>\n",
       "    <tr>\n",
       "      <th>7</th>\n",
       "      <td>integer_feature_7</td>\n",
       "      <td>4541</td>\n",
       "      <td>0.00920</td>\n",
       "    </tr>\n",
       "    <tr>\n",
       "      <th>8</th>\n",
       "      <td>integer_feature_8</td>\n",
       "      <td>4884</td>\n",
       "      <td>0.00989</td>\n",
       "    </tr>\n",
       "    <tr>\n",
       "      <th>9</th>\n",
       "      <td>categorical_feature_1</td>\n",
       "      <td>0</td>\n",
       "      <td>0.00000</td>\n",
       "    </tr>\n",
       "    <tr>\n",
       "      <th>10</th>\n",
       "      <td>categorical_feature_2</td>\n",
       "      <td>0</td>\n",
       "      <td>0.00000</td>\n",
       "    </tr>\n",
       "    <tr>\n",
       "      <th>11</th>\n",
       "      <td>categorical_feature_3</td>\n",
       "      <td>0</td>\n",
       "      <td>0.00000</td>\n",
       "    </tr>\n",
       "    <tr>\n",
       "      <th>12</th>\n",
       "      <td>categorical_feature_4</td>\n",
       "      <td>4884</td>\n",
       "      <td>0.00989</td>\n",
       "    </tr>\n",
       "    <tr>\n",
       "      <th>13</th>\n",
       "      <td>categorical_feature_5</td>\n",
       "      <td>0</td>\n",
       "      <td>0.00000</td>\n",
       "    </tr>\n",
       "    <tr>\n",
       "      <th>14</th>\n",
       "      <td>categorical_feature_6</td>\n",
       "      <td>414526</td>\n",
       "      <td>0.83946</td>\n",
       "    </tr>\n",
       "    <tr>\n",
       "      <th>15</th>\n",
       "      <td>categorical_feature_7</td>\n",
       "      <td>0</td>\n",
       "      <td>0.00000</td>\n",
       "    </tr>\n",
       "    <tr>\n",
       "      <th>16</th>\n",
       "      <td>categorical_feature_8</td>\n",
       "      <td>0</td>\n",
       "      <td>0.00000</td>\n",
       "    </tr>\n",
       "    <tr>\n",
       "      <th>17</th>\n",
       "      <td>categorical_feature_9</td>\n",
       "      <td>369040</td>\n",
       "      <td>0.74734</td>\n",
       "    </tr>\n",
       "    <tr>\n",
       "      <th>18</th>\n",
       "      <td>label</td>\n",
       "      <td>0</td>\n",
       "      <td>0.00000</td>\n",
       "    </tr>\n",
       "  </tbody>\n",
       "</table>\n",
       "</div>"
      ],
      "text/plain": [
       "                   column   count   ratio\n",
       "0         click_timestamp       0 0.00000\n",
       "1       integer_feature_1  369040 0.74734\n",
       "2       integer_feature_2    4884 0.00989\n",
       "3       integer_feature_3       0 0.00000\n",
       "4       integer_feature_4  369040 0.74734\n",
       "5       integer_feature_5       0 0.00000\n",
       "6       integer_feature_6  175826 0.35607\n",
       "7       integer_feature_7    4541 0.00920\n",
       "8       integer_feature_8    4884 0.00989\n",
       "9   categorical_feature_1       0 0.00000\n",
       "10  categorical_feature_2       0 0.00000\n",
       "11  categorical_feature_3       0 0.00000\n",
       "12  categorical_feature_4    4884 0.00989\n",
       "13  categorical_feature_5       0 0.00000\n",
       "14  categorical_feature_6  414526 0.83946\n",
       "15  categorical_feature_7       0 0.00000\n",
       "16  categorical_feature_8       0 0.00000\n",
       "17  categorical_feature_9  369040 0.74734\n",
       "18                  label       0 0.00000"
      ]
     },
     "execution_count": 14,
     "metadata": {},
     "output_type": "execute_result"
    }
   ],
   "source": [
    "valid.isnull().sum() # 결측치\n",
    "\n",
    "missdf_valid  = valid.isnull().sum().reset_index() # 결측치 비율\n",
    "missdf_valid.columns = ['column','count']\n",
    "missdf_valid['ratio'] = missdf_valid['count']/valid.shape[0]\n",
    "missdf_valid"
   ]
  },
  {
   "cell_type": "code",
   "execution_count": 15,
   "metadata": {},
   "outputs": [
    {
     "data": {
      "text/html": [
       "<div>\n",
       "<style scoped>\n",
       "    .dataframe tbody tr th:only-of-type {\n",
       "        vertical-align: middle;\n",
       "    }\n",
       "\n",
       "    .dataframe tbody tr th {\n",
       "        vertical-align: top;\n",
       "    }\n",
       "\n",
       "    .dataframe thead th {\n",
       "        text-align: right;\n",
       "    }\n",
       "</style>\n",
       "<table border=\"1\" class=\"dataframe\">\n",
       "  <thead>\n",
       "    <tr style=\"text-align: right;\">\n",
       "      <th></th>\n",
       "      <th>column</th>\n",
       "      <th>count</th>\n",
       "      <th>ratio</th>\n",
       "    </tr>\n",
       "  </thead>\n",
       "  <tbody>\n",
       "    <tr>\n",
       "      <th>0</th>\n",
       "      <td>id</td>\n",
       "      <td>0</td>\n",
       "      <td>0.00000</td>\n",
       "    </tr>\n",
       "    <tr>\n",
       "      <th>1</th>\n",
       "      <td>click_timestamp</td>\n",
       "      <td>0</td>\n",
       "      <td>0.00000</td>\n",
       "    </tr>\n",
       "    <tr>\n",
       "      <th>2</th>\n",
       "      <td>integer_feature_1</td>\n",
       "      <td>368519</td>\n",
       "      <td>0.73918</td>\n",
       "    </tr>\n",
       "    <tr>\n",
       "      <th>3</th>\n",
       "      <td>integer_feature_2</td>\n",
       "      <td>4639</td>\n",
       "      <td>0.00930</td>\n",
       "    </tr>\n",
       "    <tr>\n",
       "      <th>4</th>\n",
       "      <td>integer_feature_3</td>\n",
       "      <td>0</td>\n",
       "      <td>0.00000</td>\n",
       "    </tr>\n",
       "    <tr>\n",
       "      <th>5</th>\n",
       "      <td>integer_feature_4</td>\n",
       "      <td>368519</td>\n",
       "      <td>0.73918</td>\n",
       "    </tr>\n",
       "    <tr>\n",
       "      <th>6</th>\n",
       "      <td>integer_feature_5</td>\n",
       "      <td>0</td>\n",
       "      <td>0.00000</td>\n",
       "    </tr>\n",
       "    <tr>\n",
       "      <th>7</th>\n",
       "      <td>integer_feature_6</td>\n",
       "      <td>161264</td>\n",
       "      <td>0.32346</td>\n",
       "    </tr>\n",
       "    <tr>\n",
       "      <th>8</th>\n",
       "      <td>integer_feature_7</td>\n",
       "      <td>4902</td>\n",
       "      <td>0.00983</td>\n",
       "    </tr>\n",
       "    <tr>\n",
       "      <th>9</th>\n",
       "      <td>integer_feature_8</td>\n",
       "      <td>4639</td>\n",
       "      <td>0.00930</td>\n",
       "    </tr>\n",
       "    <tr>\n",
       "      <th>10</th>\n",
       "      <td>categorical_feature_1</td>\n",
       "      <td>0</td>\n",
       "      <td>0.00000</td>\n",
       "    </tr>\n",
       "    <tr>\n",
       "      <th>11</th>\n",
       "      <td>categorical_feature_2</td>\n",
       "      <td>0</td>\n",
       "      <td>0.00000</td>\n",
       "    </tr>\n",
       "    <tr>\n",
       "      <th>12</th>\n",
       "      <td>categorical_feature_3</td>\n",
       "      <td>0</td>\n",
       "      <td>0.00000</td>\n",
       "    </tr>\n",
       "    <tr>\n",
       "      <th>13</th>\n",
       "      <td>categorical_feature_4</td>\n",
       "      <td>4639</td>\n",
       "      <td>0.00930</td>\n",
       "    </tr>\n",
       "    <tr>\n",
       "      <th>14</th>\n",
       "      <td>categorical_feature_5</td>\n",
       "      <td>0</td>\n",
       "      <td>0.00000</td>\n",
       "    </tr>\n",
       "    <tr>\n",
       "      <th>15</th>\n",
       "      <td>categorical_feature_6</td>\n",
       "      <td>415328</td>\n",
       "      <td>0.83307</td>\n",
       "    </tr>\n",
       "    <tr>\n",
       "      <th>16</th>\n",
       "      <td>categorical_feature_7</td>\n",
       "      <td>0</td>\n",
       "      <td>0.00000</td>\n",
       "    </tr>\n",
       "    <tr>\n",
       "      <th>17</th>\n",
       "      <td>categorical_feature_8</td>\n",
       "      <td>0</td>\n",
       "      <td>0.00000</td>\n",
       "    </tr>\n",
       "    <tr>\n",
       "      <th>18</th>\n",
       "      <td>categorical_feature_9</td>\n",
       "      <td>368519</td>\n",
       "      <td>0.73918</td>\n",
       "    </tr>\n",
       "  </tbody>\n",
       "</table>\n",
       "</div>"
      ],
      "text/plain": [
       "                   column   count   ratio\n",
       "0                      id       0 0.00000\n",
       "1         click_timestamp       0 0.00000\n",
       "2       integer_feature_1  368519 0.73918\n",
       "3       integer_feature_2    4639 0.00930\n",
       "4       integer_feature_3       0 0.00000\n",
       "5       integer_feature_4  368519 0.73918\n",
       "6       integer_feature_5       0 0.00000\n",
       "7       integer_feature_6  161264 0.32346\n",
       "8       integer_feature_7    4902 0.00983\n",
       "9       integer_feature_8    4639 0.00930\n",
       "10  categorical_feature_1       0 0.00000\n",
       "11  categorical_feature_2       0 0.00000\n",
       "12  categorical_feature_3       0 0.00000\n",
       "13  categorical_feature_4    4639 0.00930\n",
       "14  categorical_feature_5       0 0.00000\n",
       "15  categorical_feature_6  415328 0.83307\n",
       "16  categorical_feature_7       0 0.00000\n",
       "17  categorical_feature_8       0 0.00000\n",
       "18  categorical_feature_9  368519 0.73918"
      ]
     },
     "execution_count": 15,
     "metadata": {},
     "output_type": "execute_result"
    }
   ],
   "source": [
    "test.isnull().sum() # 결측치\n",
    "\n",
    "missdf_test  = test.isnull().sum().reset_index() # 결측치 비율\n",
    "missdf_test.columns = ['column','count']\n",
    "missdf_test['ratio'] = missdf_test['count']/test.shape[0]\n",
    "missdf_test"
   ]
  },
  {
   "cell_type": "code",
   "execution_count": 181,
   "metadata": {},
   "outputs": [
    {
     "data": {
      "text/html": [
       "<div>\n",
       "<style scoped>\n",
       "    .dataframe tbody tr th:only-of-type {\n",
       "        vertical-align: middle;\n",
       "    }\n",
       "\n",
       "    .dataframe tbody tr th {\n",
       "        vertical-align: top;\n",
       "    }\n",
       "\n",
       "    .dataframe thead th {\n",
       "        text-align: right;\n",
       "    }\n",
       "</style>\n",
       "<table border=\"1\" class=\"dataframe\">\n",
       "  <thead>\n",
       "    <tr style=\"text-align: right;\">\n",
       "      <th></th>\n",
       "      <th></th>\n",
       "      <th></th>\n",
       "      <th>label</th>\n",
       "    </tr>\n",
       "    <tr>\n",
       "      <th>integer_feature_1</th>\n",
       "      <th>integer_feature_4</th>\n",
       "      <th>categorical_feature_9</th>\n",
       "      <th></th>\n",
       "    </tr>\n",
       "  </thead>\n",
       "  <tbody>\n",
       "    <tr>\n",
       "      <th rowspan=\"5\" valign=\"top\">0.00000</th>\n",
       "      <th rowspan=\"5\" valign=\"top\">0.00000</th>\n",
       "      <th>00119446</th>\n",
       "      <td>1927</td>\n",
       "    </tr>\n",
       "    <tr>\n",
       "      <th>0015d208</th>\n",
       "      <td>1</td>\n",
       "    </tr>\n",
       "    <tr>\n",
       "      <th>001ae36f</th>\n",
       "      <td>1</td>\n",
       "    </tr>\n",
       "    <tr>\n",
       "      <th>0024aa8e</th>\n",
       "      <td>1</td>\n",
       "    </tr>\n",
       "    <tr>\n",
       "      <th>00347e38</th>\n",
       "      <td>6</td>\n",
       "    </tr>\n",
       "    <tr>\n",
       "      <th>...</th>\n",
       "      <th>...</th>\n",
       "      <th>...</th>\n",
       "      <td>...</td>\n",
       "    </tr>\n",
       "    <tr>\n",
       "      <th>300.00000</th>\n",
       "      <th>0.00000</th>\n",
       "      <th>1d790ecf</th>\n",
       "      <td>1</td>\n",
       "    </tr>\n",
       "    <tr>\n",
       "      <th>305.00000</th>\n",
       "      <th>0.00000</th>\n",
       "      <th>1d790ecf</th>\n",
       "      <td>1</td>\n",
       "    </tr>\n",
       "    <tr>\n",
       "      <th>387.00000</th>\n",
       "      <th>0.00000</th>\n",
       "      <th>feba1314</th>\n",
       "      <td>1</td>\n",
       "    </tr>\n",
       "    <tr>\n",
       "      <th>472.00000</th>\n",
       "      <th>0.00000</th>\n",
       "      <th>938fb92f</th>\n",
       "      <td>1</td>\n",
       "    </tr>\n",
       "    <tr>\n",
       "      <th>496.00000</th>\n",
       "      <th>0.00000</th>\n",
       "      <th>938fb92f</th>\n",
       "      <td>1</td>\n",
       "    </tr>\n",
       "  </tbody>\n",
       "</table>\n",
       "<p>46178 rows × 1 columns</p>\n",
       "</div>"
      ],
      "text/plain": [
       "                                                           label\n",
       "integer_feature_1 integer_feature_4 categorical_feature_9       \n",
       "0.00000           0.00000           00119446                1927\n",
       "                                    0015d208                   1\n",
       "                                    001ae36f                   1\n",
       "                                    0024aa8e                   1\n",
       "                                    00347e38                   6\n",
       "...                                                          ...\n",
       "300.00000         0.00000           1d790ecf                   1\n",
       "305.00000         0.00000           1d790ecf                   1\n",
       "387.00000         0.00000           feba1314                   1\n",
       "472.00000         0.00000           938fb92f                   1\n",
       "496.00000         0.00000           938fb92f                   1\n",
       "\n",
       "[46178 rows x 1 columns]"
      ]
     },
     "execution_count": 181,
     "metadata": {},
     "output_type": "execute_result"
    }
   ],
   "source": [
    "# 결측치 있는 비율\n",
    "train[['integer_feature_1','integer_feature_4','categorical_feature_9','label']].groupby(['integer_feature_1','integer_feature_4','categorical_feature_9']).count()"
   ]
  },
  {
   "cell_type": "markdown",
   "metadata": {},
   "source": [
    "## 결측치 시각화"
   ]
  },
  {
   "cell_type": "code",
   "execution_count": 45,
   "metadata": {},
   "outputs": [
    {
     "data": {
      "text/plain": [
       "<matplotlib.axes._subplots.AxesSubplot at 0x7fcf6f511320>"
      ]
     },
     "execution_count": 45,
     "metadata": {},
     "output_type": "execute_result"
    },
    {
     "data": {
      "image/png": "[encoded data removed]",
      "text/plain": [
       "<Figure size 864x360 with 2 Axes>"
      ]
     },
     "metadata": {
      "needs_background": "light"
     },
     "output_type": "display_data"
    }
   ],
   "source": [
    "import missingno as msno\n",
    "msno.matrix(train, figsize=(12,5))"
   ]
  },
  {
   "cell_type": "code",
   "execution_count": 18,
   "metadata": {},
   "outputs": [
    {
     "data": {
      "text/plain": [
       "<matplotlib.axes._subplots.AxesSubplot at 0x7f9145a15048>"
      ]
     },
     "execution_count": 18,
     "metadata": {},
     "output_type": "execute_result"
    },
    {
     "data": {
      "image/png": "[encoded data removed]",
      "text/plain": [
       "<Figure size 864x360 with 2 Axes>"
      ]
     },
     "metadata": {
      "needs_background": "light"
     },
     "output_type": "display_data"
    }
   ],
   "source": [
    "msno.matrix(valid, figsize=(12,5))"
   ]
  },
  {
   "cell_type": "markdown",
   "metadata": {},
   "source": [
    "정수형변수 1, 4 그리고 범주형변수 6, 9가 결측치 70%이상으로 나타났으며 <br>\n",
    "정수형변수 1, 4 범주형변수 9 는 비슷한 비율이며 같은 행에 결측치가 있음을 확인함. <br>\n",
    "train, valid의 결측치가 비슷한 분포로 되어있음 이런것도 특징이 될 수 있지않을까? 생각해봄"
   ]
  },
  {
   "cell_type": "markdown",
   "metadata": {},
   "source": [
    "## 클릭발생시간의 분포"
   ]
  },
  {
   "cell_type": "code",
   "execution_count": 19,
   "metadata": {},
   "outputs": [
    {
     "data": {
      "text/plain": [
       "498971    18\n",
       "392211    18\n",
       "376621    17\n",
       "504398    17\n",
       "326634    17\n",
       "          ..\n",
       "168248     1\n",
       "275512     1\n",
       "188726     1\n",
       "194869     1\n",
       "2049       1\n",
       "Name: click_timestamp, Length: 699728, dtype: int64"
      ]
     },
     "execution_count": 19,
     "metadata": {},
     "output_type": "execute_result"
    }
   ],
   "source": [
    "### 클릭발생시간의 분포\n",
    "import matplotlib.pyplot as plt\n",
    "train['click_timestamp'].value_counts()"
   ]
  },
  {
   "cell_type": "code",
   "execution_count": 25,
   "metadata": {},
   "outputs": [
    {
     "data": {
      "text/plain": [
       "<matplotlib.axes._subplots.AxesSubplot at 0x7f12cedc8e48>"
      ]
     },
     "execution_count": 25,
     "metadata": {},
     "output_type": "execute_result"
    },
    {
     "data": {
      "image/png": "[encoded data removed]",
      "text/plain": [
       "<Figure size 432x288 with 1 Axes>"
      ]
     },
     "metadata": {
      "needs_background": "light"
     },
     "output_type": "display_data"
    }
   ],
   "source": [
    "import matplotlib.pyplot as plt\n",
    "train['click_timestamp'][train['label']==1].value_counts().sort_index()[:100].plot(kind='bar')"
   ]
  },
  {
   "cell_type": "markdown",
   "metadata": {},
   "source": [
    "클릭발생시간 변수는 train 10일,valid 2일, test 2일로 구성됨을 확인했으며<br>\n",
    "unique한 값이 많아 모델을 생성하는데 중요한 변수는 아님.<br>\n",
    "<BR>\n",
    "feature engineering IDEA) 하지만, 같은시간대는 하나로 그룹화하여 묶을 수 있을 것으로 판단 "
   ]
  },
  {
   "cell_type": "markdown",
   "metadata": {},
   "source": [
    "## integer_feature_1"
   ]
  },
  {
   "cell_type": "code",
   "execution_count": 29,
   "metadata": {},
   "outputs": [
    {
     "data": {
      "text/plain": [
       "Text(0.5, 1.0, 'violinplot')"
      ]
     },
     "execution_count": 29,
     "metadata": {},
     "output_type": "execute_result"
    },
    {
     "data": {
      "image/png": "[encoded data removed]",
      "text/plain": [
       "<Figure size 1440x576 with 3 Axes>"
      ]
     },
     "metadata": {
      "needs_background": "light"
     },
     "output_type": "display_data"
    }
   ],
   "source": [
    "import matplotlib.pyplot as plt\n",
    "import seaborn as sns\n",
    "plt.figure(figsize=(20,8))\n",
    "\n",
    "plt.subplot(2,3,1)\n",
    "sns.boxplot(train['integer_feature_1']); plt.title('Boxplot')\n",
    "\n",
    "plt.subplot(2,3,2)\n",
    "sns.distplot(a=train['integer_feature_1'],color='m'); plt.title('Distributionplot')\n",
    "\n",
    "plt.subplot(2,3,3)\n",
    "sns.violinplot(x =train['integer_feature_1'], y = train.label, orient ='h'); plt.title('violinplot')\n",
    "\n",
    "n = 100\n",
    "plt.subplot(2,3,4)\n",
    "sns.boxplot(train['integer_feature_1'][train['integer_feature_1']<n])\n",
    "\n",
    "plt.subplot(2,3,5)\n",
    "sns.distplot(a=train['integer_feature_1'][train['integer_feature_1']<n],color='m')\n",
    "\n",
    "plt.subplot(2,3,6)\n",
    "sns.violinplot(x =train['integer_feature_1'][train['integer_feature_1']<n], y = train.label[train['integer_feature_1']<n], orient ='h')\n",
    "plt.show()"
   ]
  },
  {
   "cell_type": "code",
   "execution_count": 17,
   "metadata": {},
   "outputs": [
    {
     "data": {
      "image/png": "[encoded data removed]",
      "text/plain": [
       "<Figure size 1080x576 with 4 Axes>"
      ]
     },
     "metadata": {
      "needs_background": "light"
     },
     "output_type": "display_data"
    }
   ],
   "source": [
    "# 왜도 조정\n",
    "import numpy as np\n",
    "from sklearn.preprocessing import minmax_scale\n",
    "from sklearn.preprocessing import scale\n",
    "# np.log1p 0이 존재하여 log에 1을 더한 것과 같은 기능을 하는 log1p를 사용 \n",
    "\n",
    "fig, axs = plt.subplots(2, 2, figsize=(15, 8))\n",
    "sns.kdeplot(train['integer_feature_1'][train.label == 0], color = 'b', label = \"1\",ax=axs[0,0]) # 판매\n",
    "sns.kdeplot(train['integer_feature_1'][train.label == 1], color = 'r', label = \"0\",ax=axs[0,0]) # 미판매\n",
    "sns.kdeplot(np.log1p(train['integer_feature_1'][train.label == 0]), color = 'b', label = \"1\",ax=axs[0,1])\n",
    "sns.kdeplot(np.log1p(train['integer_feature_1'][train.label == 1]), color = 'r', label = \"0\",ax=axs[0,1])\n",
    "sns.kdeplot(minmax_scale(train['integer_feature_1'][train.label == 0]), color = 'b', label = \"1\",ax=axs[1,0])\n",
    "sns.kdeplot(minmax_scale(train['integer_feature_1'][train.label == 1]), color = 'r', label = \"0\",ax=axs[1,0])\n",
    "sns.kdeplot(scale(train['integer_feature_1'][train.label == 0]), color = 'b', label = \"1\",ax=axs[1,1])\n",
    "sns.kdeplot(scale(train['integer_feature_1'][train.label == 1]), color = 'r', label = \"0\",ax=axs[1,1])\n",
    "plt.legend()\n",
    "plt.show()"
   ]
  },
  {
   "cell_type": "code",
   "execution_count": 6,
   "metadata": {},
   "outputs": [
    {
     "data": {
      "text/plain": [
       "<matplotlib.axes._subplots.AxesSubplot at 0x7f135f90f908>"
      ]
     },
     "execution_count": 6,
     "metadata": {},
     "output_type": "execute_result"
    },
    {
     "data": {
      "image/png": "[encoded data removed]",
      "text/plain": [
       "<Figure size 432x288 with 1 Axes>"
      ]
     },
     "metadata": {
      "needs_background": "light"
     },
     "output_type": "display_data"
    }
   ],
   "source": [
    "train['integer_feature_1'].value_counts()[:35].plot(kind='bar') # 상위10개의 분포를 확인"
   ]
  },
  {
   "cell_type": "markdown",
   "metadata": {},
   "source": [
    "정수형변수1는 값이 치우쳐있으며 log transformation을활용하였더니.<br>\n",
    "분포의 모양에 있어서 스펙타클한 변화는 없었지만, scale 자체를 줄일 수 있음.<br>\n",
    "그리고 값중에 0 이 많음"
   ]
  },
  {
   "cell_type": "markdown",
   "metadata": {},
   "source": [
    "## integer_feature_2"
   ]
  },
  {
   "cell_type": "code",
   "execution_count": 25,
   "metadata": {},
   "outputs": [
    {
     "data": {
      "image/png": "[encoded data removed]",
      "text/plain": [
       "<Figure size 1440x576 with 6 Axes>"
      ]
     },
     "metadata": {
      "needs_background": "light"
     },
     "output_type": "display_data"
    }
   ],
   "source": [
    "plt.figure(figsize=(20,8))\n",
    "colcheck = 'integer_feature_2'\n",
    "\n",
    "plt.subplot(2,3,1)\n",
    "sns.boxplot(train['integer_feature_2']); plt.title('Boxplot')\n",
    "\n",
    "plt.subplot(2,3,2)\n",
    "sns.distplot(a=train['integer_feature_2'],color='m'); plt.title('Distributionplot')\n",
    "\n",
    "plt.subplot(2,3,3)\n",
    "sns.violinplot(x =train['integer_feature_2'], y = train.label, orient ='h'); plt.title('violinplot')\n",
    "\n",
    "n = 10\n",
    "plt.subplot(2,3,4)\n",
    "sns.boxplot(train['integer_feature_2'][train['integer_feature_2']<n])\n",
    "\n",
    "plt.subplot(2,3,5)\n",
    "sns.distplot(a=train['integer_feature_2'][train['integer_feature_2']<n],color='m')\n",
    "\n",
    "plt.subplot(2,3,6)\n",
    "sns.violinplot(x =train['integer_feature_2'][train['integer_feature_2']<n], y = train.label[train['integer_feature_2']<n], orient ='h')\n",
    "plt.show()"
   ]
  },
  {
   "cell_type": "code",
   "execution_count": 27,
   "metadata": {},
   "outputs": [
    {
     "data": {
      "text/plain": [
       "<matplotlib.axes._subplots.AxesSubplot at 0x7f91552f0cc0>"
      ]
     },
     "execution_count": 27,
     "metadata": {},
     "output_type": "execute_result"
    },
    {
     "data": {
      "image/png": "[encoded data removed]",
      "text/plain": [
       "<Figure size 432x288 with 1 Axes>"
      ]
     },
     "metadata": {
      "needs_background": "light"
     },
     "output_type": "display_data"
    }
   ],
   "source": [
    "train['integer_feature_2'].value_counts()[:10].plot(kind='bar') # 상위10개의 분포를 확인"
   ]
  },
  {
   "cell_type": "markdown",
   "metadata": {},
   "source": [
    "## integer_feature_3"
   ]
  },
  {
   "cell_type": "code",
   "execution_count": 28,
   "metadata": {},
   "outputs": [
    {
     "data": {
      "image/png": "[encoded data removed]",
      "text/plain": [
       "<Figure size 1440x576 with 6 Axes>"
      ]
     },
     "metadata": {
      "needs_background": "light"
     },
     "output_type": "display_data"
    }
   ],
   "source": [
    "plt.figure(figsize=(20,8))\n",
    "\n",
    "plt.subplot(2,3,1)\n",
    "sns.boxplot(train['integer_feature_3']); plt.title('Boxplot')\n",
    "\n",
    "plt.subplot(2,3,2)\n",
    "sns.distplot(a=train['integer_feature_3'],color='m'); plt.title('Distributionplot')\n",
    "\n",
    "plt.subplot(2,3,3)\n",
    "sns.violinplot(x =train['integer_feature_3'], y = train.label, orient ='h'); plt.title('violinplot')\n",
    "\n",
    "n = 10\n",
    "plt.subplot(2,3,4)\n",
    "sns.boxplot(train['integer_feature_3'][train['integer_feature_3']<n])\n",
    "\n",
    "plt.subplot(2,3,5)\n",
    "sns.distplot(a=train['integer_feature_3'][train['integer_feature_3']<n],color='m')\n",
    "\n",
    "plt.subplot(2,3,6)\n",
    "sns.violinplot(x =train['integer_feature_3'][train['integer_feature_3']<n], y = train.label[train['integer_feature_3']<n], orient ='h')\n",
    "plt.show()"
   ]
  },
  {
   "cell_type": "code",
   "execution_count": 29,
   "metadata": {},
   "outputs": [
    {
     "data": {
      "text/plain": [
       "<matplotlib.axes._subplots.AxesSubplot at 0x7f9153e07ef0>"
      ]
     },
     "execution_count": 29,
     "metadata": {},
     "output_type": "execute_result"
    },
    {
     "data": {
      "image/png": "[encoded data removed]",
      "text/plain": [
       "<Figure size 432x288 with 1 Axes>"
      ]
     },
     "metadata": {
      "needs_background": "light"
     },
     "output_type": "display_data"
    }
   ],
   "source": [
    "train['integer_feature_3'].value_counts()[:10].plot(kind='bar') # 상위10개의 분포를 확인"
   ]
  },
  {
   "cell_type": "markdown",
   "metadata": {},
   "source": [
    "## integer_feature_4"
   ]
  },
  {
   "cell_type": "code",
   "execution_count": 30,
   "metadata": {},
   "outputs": [
    {
     "data": {
      "image/png": "[encoded data removed]",
      "text/plain": [
       "<Figure size 1440x576 with 6 Axes>"
      ]
     },
     "metadata": {
      "needs_background": "light"
     },
     "output_type": "display_data"
    }
   ],
   "source": [
    "plt.figure(figsize=(20,8))\n",
    "\n",
    "plt.subplot(2,3,1)\n",
    "sns.boxplot(train['integer_feature_4']); plt.title('Boxplot')\n",
    "\n",
    "plt.subplot(2,3,2)\n",
    "sns.distplot(a=train['integer_feature_4'],color='m'); plt.title('Distributionplot')\n",
    "\n",
    "plt.subplot(2,3,3)\n",
    "sns.violinplot(x =train['integer_feature_4'], y = train.label, orient ='h'); plt.title('violinplot')\n",
    "\n",
    "n = 600\n",
    "plt.subplot(2,3,4)\n",
    "sns.boxplot(train['integer_feature_4'][train['integer_feature_4']<n])\n",
    "\n",
    "plt.subplot(2,3,5)\n",
    "sns.distplot(a=train['integer_feature_4'][train['integer_feature_4']<n],color='m')\n",
    "\n",
    "plt.subplot(2,3,6)\n",
    "sns.violinplot(x =train['integer_feature_4'][train['integer_feature_4']<n], y = train.label[train['integer_feature_4']<n], orient ='h')\n",
    "plt.show()"
   ]
  },
  {
   "cell_type": "code",
   "execution_count": 31,
   "metadata": {},
   "outputs": [
    {
     "data": {
      "text/plain": [
       "<matplotlib.axes._subplots.AxesSubplot at 0x7f9153afa630>"
      ]
     },
     "execution_count": 31,
     "metadata": {},
     "output_type": "execute_result"
    },
    {
     "data": {
      "image/png": "[encoded data removed]",
      "text/plain": [
       "<Figure size 432x288 with 1 Axes>"
      ]
     },
     "metadata": {
      "needs_background": "light"
     },
     "output_type": "display_data"
    }
   ],
   "source": [
    "train['integer_feature_4'].value_counts()[:10].plot(kind='bar') # 상위10개의 분포를 확인"
   ]
  },
  {
   "cell_type": "markdown",
   "metadata": {},
   "source": [
    "## integer_feature_5"
   ]
  },
  {
   "cell_type": "code",
   "execution_count": 32,
   "metadata": {},
   "outputs": [
    {
     "data": {
      "image/png": "[encoded data removed]",
      "text/plain": [
       "<Figure size 1440x576 with 6 Axes>"
      ]
     },
     "metadata": {
      "needs_background": "light"
     },
     "output_type": "display_data"
    }
   ],
   "source": [
    "plt.figure(figsize=(20,8))\n",
    "\n",
    "plt.subplot(2,3,1)\n",
    "sns.boxplot(train['integer_feature_5']); plt.title('Boxplot')\n",
    "\n",
    "plt.subplot(2,3,2)\n",
    "sns.distplot(a=train['integer_feature_5'],color='m'); plt.title('Distributionplot')\n",
    "\n",
    "plt.subplot(2,3,3)\n",
    "sns.violinplot(x =train['integer_feature_5'], y = train.label, orient ='h'); plt.title('violinplot')\n",
    "\n",
    "n = 600\n",
    "plt.subplot(2,3,4)\n",
    "sns.boxplot(train['integer_feature_5'][train['integer_feature_5']<n])\n",
    "\n",
    "plt.subplot(2,3,5)\n",
    "sns.distplot(a=train['integer_feature_5'][train['integer_feature_5']<n],color='m')\n",
    "\n",
    "plt.subplot(2,3,6)\n",
    "sns.violinplot(x =train['integer_feature_5'][train['integer_feature_5']<n], y = train.label[train['integer_feature_5']<n], orient ='h')\n",
    "plt.show()"
   ]
  },
  {
   "cell_type": "code",
   "execution_count": 33,
   "metadata": {},
   "outputs": [
    {
     "data": {
      "text/plain": [
       "<matplotlib.axes._subplots.AxesSubplot at 0x7f915490bc50>"
      ]
     },
     "execution_count": 33,
     "metadata": {},
     "output_type": "execute_result"
    },
    {
     "data": {
      "image/png": "[encoded data removed]",
      "text/plain": [
       "<Figure size 432x288 with 1 Axes>"
      ]
     },
     "metadata": {
      "needs_background": "light"
     },
     "output_type": "display_data"
    }
   ],
   "source": [
    "train['integer_feature_5'].value_counts()[:10].plot(kind='bar') # 상위10개의 분포를 확인"
   ]
  },
  {
   "cell_type": "markdown",
   "metadata": {},
   "source": [
    "## integer_feature_6"
   ]
  },
  {
   "cell_type": "code",
   "execution_count": 34,
   "metadata": {},
   "outputs": [
    {
     "data": {
      "image/png": "[encoded data removed]",
      "text/plain": [
       "<Figure size 1440x576 with 6 Axes>"
      ]
     },
     "metadata": {
      "needs_background": "light"
     },
     "output_type": "display_data"
    }
   ],
   "source": [
    "plt.figure(figsize=(20,8))\n",
    "\n",
    "plt.subplot(2,3,1)\n",
    "sns.boxplot(train['integer_feature_6']); plt.title('Boxplot')\n",
    "\n",
    "plt.subplot(2,3,2)\n",
    "sns.distplot(a=train['integer_feature_6'],color='m'); plt.title('Distributionplot')\n",
    "\n",
    "plt.subplot(2,3,3)\n",
    "sns.violinplot(x =train['integer_feature_6'], y = train.label, orient ='h'); plt.title('violinplot')\n",
    "\n",
    "n = 600\n",
    "plt.subplot(2,3,4)\n",
    "sns.boxplot(train['integer_feature_6'][train['integer_feature_6']<n])\n",
    "\n",
    "plt.subplot(2,3,5)\n",
    "sns.distplot(a=train['integer_feature_6'][train['integer_feature_6']<n],color='m')\n",
    "\n",
    "plt.subplot(2,3,6)\n",
    "sns.violinplot(x =train['integer_feature_6'][train['integer_feature_6']<n], y = train.label[train['integer_feature_6']<n], orient ='h')\n",
    "plt.show()"
   ]
  },
  {
   "cell_type": "code",
   "execution_count": 35,
   "metadata": {},
   "outputs": [
    {
     "data": {
      "text/plain": [
       "<matplotlib.axes._subplots.AxesSubplot at 0x7f91549a39e8>"
      ]
     },
     "execution_count": 35,
     "metadata": {},
     "output_type": "execute_result"
    },
    {
     "data": {
      "image/png": "[encoded data removed]",
      "text/plain": [
       "<Figure size 432x288 with 1 Axes>"
      ]
     },
     "metadata": {
      "needs_background": "light"
     },
     "output_type": "display_data"
    }
   ],
   "source": [
    "train['integer_feature_6'].value_counts()[:10].plot(kind='bar') # 상위10개의 분포를 확인"
   ]
  },
  {
   "cell_type": "markdown",
   "metadata": {},
   "source": [
    "## integer_feature_7"
   ]
  },
  {
   "cell_type": "code",
   "execution_count": 36,
   "metadata": {},
   "outputs": [
    {
     "data": {
      "image/png": "[encoded data removed]",
      "text/plain": [
       "<Figure size 1440x576 with 6 Axes>"
      ]
     },
     "metadata": {
      "needs_background": "light"
     },
     "output_type": "display_data"
    }
   ],
   "source": [
    "plt.figure(figsize=(20,8))\n",
    "\n",
    "plt.subplot(2,3,1)\n",
    "sns.boxplot(train['integer_feature_7']); plt.title('Boxplot')\n",
    "\n",
    "plt.subplot(2,3,2)\n",
    "sns.distplot(a=train['integer_feature_7'],color='m'); plt.title('Distributionplot')\n",
    "\n",
    "plt.subplot(2,3,3)\n",
    "sns.violinplot(x =train['integer_feature_7'], y = train.label, orient ='h'); plt.title('violinplot')\n",
    "\n",
    "n = 300\n",
    "plt.subplot(2,3,4)\n",
    "sns.boxplot(train['integer_feature_7'][train['integer_feature_7']<n])\n",
    "\n",
    "plt.subplot(2,3,5)\n",
    "sns.distplot(a=train['integer_feature_7'][train['integer_feature_7']<n],color='m')\n",
    "\n",
    "plt.subplot(2,3,6)\n",
    "sns.violinplot(x =train['integer_feature_7'][train['integer_feature_7']<n], y = train.label[train['integer_feature_7']<n], orient ='h')\n",
    "plt.show()"
   ]
  },
  {
   "cell_type": "code",
   "execution_count": 37,
   "metadata": {},
   "outputs": [
    {
     "data": {
      "text/plain": [
       "<matplotlib.axes._subplots.AxesSubplot at 0x7f915556c860>"
      ]
     },
     "execution_count": 37,
     "metadata": {},
     "output_type": "execute_result"
    },
    {
     "data": {
      "image/png": "[encoded data removed]",
      "text/plain": [
       "<Figure size 432x288 with 1 Axes>"
      ]
     },
     "metadata": {
      "needs_background": "light"
     },
     "output_type": "display_data"
    }
   ],
   "source": [
    "train['integer_feature_7'].value_counts()[:10].plot(kind='bar') # 상위10개의 분포를 확인"
   ]
  },
  {
   "cell_type": "markdown",
   "metadata": {},
   "source": [
    "## integer_feature_8"
   ]
  },
  {
   "cell_type": "code",
   "execution_count": 38,
   "metadata": {},
   "outputs": [
    {
     "data": {
      "image/png": "[encoded data removed]",
      "text/plain": [
       "<Figure size 1440x576 with 6 Axes>"
      ]
     },
     "metadata": {
      "needs_background": "light"
     },
     "output_type": "display_data"
    }
   ],
   "source": [
    "plt.figure(figsize=(20,8))\n",
    "\n",
    "plt.subplot(2,3,1)\n",
    "sns.boxplot(train['integer_feature_8']); plt.title('Boxplot')\n",
    "\n",
    "plt.subplot(2,3,2)\n",
    "sns.distplot(a=train['integer_feature_8'],color='m'); plt.title('Distributionplot')\n",
    "\n",
    "plt.subplot(2,3,3)\n",
    "sns.violinplot(x =train['integer_feature_8'], y = train.label, orient ='h'); plt.title('violinplot')\n",
    "\n",
    "n = 100 # 구간을 줄여보기\n",
    "plt.subplot(2,3,4)\n",
    "sns.boxplot(train['integer_feature_8'][train['integer_feature_8']<n])\n",
    "\n",
    "plt.subplot(2,3,5)\n",
    "sns.distplot(a=train['integer_feature_8'][train['integer_feature_8']<n],color='m')\n",
    "\n",
    "plt.subplot(2,3,6)\n",
    "sns.violinplot(x =train['integer_feature_8'][train['integer_feature_8']<n], y = train.label[train['integer_feature_8']<n], orient ='h')\n",
    "plt.show()"
   ]
  },
  {
   "cell_type": "code",
   "execution_count": 39,
   "metadata": {},
   "outputs": [
    {
     "data": {
      "text/plain": [
       "<matplotlib.axes._subplots.AxesSubplot at 0x7f9153a18898>"
      ]
     },
     "execution_count": 39,
     "metadata": {},
     "output_type": "execute_result"
    },
    {
     "data": {
      "image/png": "[encoded data removed]",
      "text/plain": [
       "<Figure size 432x288 with 1 Axes>"
      ]
     },
     "metadata": {
      "needs_background": "light"
     },
     "output_type": "display_data"
    }
   ],
   "source": [
    "train['integer_feature_8'].value_counts()[:10].plot(kind='bar') # 상위10개의 분포를 확인"
   ]
  },
  {
   "cell_type": "markdown",
   "metadata": {},
   "source": [
    "## 각 범주형변수들의 차집합\n",
    "- train에는있는데 valid에는 없는 범주형변수들이 존재"
   ]
  },
  {
   "cell_type": "markdown",
   "metadata": {},
   "source": [
    "![python image2](https://mblogthumb-phinf.pstatic.net/20160702_167/2gumin14_1467451020215HqwdV_PNG/37.PNG?type=w2)"
   ]
  },
  {
   "cell_type": "code",
   "execution_count": 43,
   "metadata": {},
   "outputs": [
    {
     "data": {
      "text/plain": [
       "array(['776ce399', '3486227d', 'e5ba7672', '07c540c4', 'd4bb7bd8',\n",
       "       '27c07bd6', '1e88c74f', '8efede7f', '2005abd1', 'af5d780c'],\n",
       "      dtype=object)"
      ]
     },
     "execution_count": 43,
     "metadata": {},
     "output_type": "execute_result"
    }
   ],
   "source": [
    "print(set(train['categorical_feature_8'].unique()).difference(set(valid['categorical_feature_8'].unique()) ))\n",
    "\n",
    "print(train['categorical_feature_8'].unique())\n",
    "\n",
    "print(valid['categorical_feature_8'].unique())"
   ]
  },
  {
   "cell_type": "markdown",
   "metadata": {},
   "source": [
    "## 범주 levels 현황"
   ]
  },
  {
   "cell_type": "code",
   "execution_count": 43,
   "metadata": {},
   "outputs": [
    {
     "name": "stdout",
     "output_type": "stream",
     "text": [
      "categorical_feature_1 의 범주levels 37774\n",
      "categorical_feature_2 의 범주levels 4141\n",
      "categorical_feature_3 의 범주levels 10878\n",
      "categorical_feature_4 의 범주levels 8071\n",
      "categorical_feature_5 의 범주levels 2853\n",
      "categorical_feature_6 의 범주levels 16490\n",
      "categorical_feature_7 의 범주levels 9823\n",
      "categorical_feature_8 의 범주levels 10\n",
      "categorical_feature_9 의 범주levels 8711\n"
     ]
    }
   ],
   "source": [
    "for i in train.iloc[:,9:18].columns:\n",
    "    print(i,'의 범주levels', len(train[i].unique()))\n",
    "# 범주level이 너무 많은 문제점이 존재 "
   ]
  },
  {
   "cell_type": "markdown",
   "metadata": {},
   "source": [
    "## categorical_feature_1\n",
    "- 범주형변수의 시각화  \n",
    "- 범주형변수가 level이 너무 많으면 각 level이 y에끼치는 영향이 약해짐"
   ]
  },
  {
   "cell_type": "code",
   "execution_count": 41,
   "metadata": {},
   "outputs": [
    {
     "data": {
      "text/html": [
       "<div>\n",
       "<style scoped>\n",
       "    .dataframe tbody tr th:only-of-type {\n",
       "        vertical-align: middle;\n",
       "    }\n",
       "\n",
       "    .dataframe tbody tr th {\n",
       "        vertical-align: top;\n",
       "    }\n",
       "\n",
       "    .dataframe thead th {\n",
       "        text-align: right;\n",
       "    }\n",
       "</style>\n",
       "<table border=\"1\" class=\"dataframe\">\n",
       "  <thead>\n",
       "    <tr style=\"text-align: right;\">\n",
       "      <th>label</th>\n",
       "      <th>0</th>\n",
       "      <th>1</th>\n",
       "    </tr>\n",
       "    <tr>\n",
       "      <th>categorical_feature_1</th>\n",
       "      <th></th>\n",
       "      <th></th>\n",
       "    </tr>\n",
       "  </thead>\n",
       "  <tbody>\n",
       "    <tr>\n",
       "      <th>7f6438ab</th>\n",
       "      <td>14148</td>\n",
       "      <td>728</td>\n",
       "    </tr>\n",
       "    <tr>\n",
       "      <th>0680dabb</th>\n",
       "      <td>9569</td>\n",
       "      <td>415</td>\n",
       "    </tr>\n",
       "    <tr>\n",
       "      <th>ad6e0317</th>\n",
       "      <td>9546</td>\n",
       "      <td>1407</td>\n",
       "    </tr>\n",
       "    <tr>\n",
       "      <th>620438e8</th>\n",
       "      <td>9434</td>\n",
       "      <td>549</td>\n",
       "    </tr>\n",
       "    <tr>\n",
       "      <th>202f2432</th>\n",
       "      <td>7779</td>\n",
       "      <td>277</td>\n",
       "    </tr>\n",
       "    <tr>\n",
       "      <th>...</th>\n",
       "      <td>...</td>\n",
       "      <td>...</td>\n",
       "    </tr>\n",
       "    <tr>\n",
       "      <th>f2671ac8</th>\n",
       "      <td>0</td>\n",
       "      <td>1</td>\n",
       "    </tr>\n",
       "    <tr>\n",
       "      <th>ce0f064a</th>\n",
       "      <td>0</td>\n",
       "      <td>2</td>\n",
       "    </tr>\n",
       "    <tr>\n",
       "      <th>976a228e</th>\n",
       "      <td>0</td>\n",
       "      <td>1</td>\n",
       "    </tr>\n",
       "    <tr>\n",
       "      <th>843300b2</th>\n",
       "      <td>0</td>\n",
       "      <td>1</td>\n",
       "    </tr>\n",
       "    <tr>\n",
       "      <th>b577f30c</th>\n",
       "      <td>0</td>\n",
       "      <td>3</td>\n",
       "    </tr>\n",
       "  </tbody>\n",
       "</table>\n",
       "<p>37774 rows × 2 columns</p>\n",
       "</div>"
      ],
      "text/plain": [
       "label                      0     1\n",
       "categorical_feature_1             \n",
       "7f6438ab               14148   728\n",
       "0680dabb                9569   415\n",
       "ad6e0317                9546  1407\n",
       "620438e8                9434   549\n",
       "202f2432                7779   277\n",
       "...                      ...   ...\n",
       "f2671ac8                   0     1\n",
       "ce0f064a                   0     2\n",
       "976a228e                   0     1\n",
       "843300b2                   0     1\n",
       "b577f30c                   0     3\n",
       "\n",
       "[37774 rows x 2 columns]"
      ]
     },
     "execution_count": 41,
     "metadata": {},
     "output_type": "execute_result"
    }
   ],
   "source": [
    "# 두 질적자료의 빈도표를 생성\n",
    "train_cross = pd.crosstab(train.label, train['categorical_feature_1'])\n",
    "train_cross.T.sort_values(by=0, ascending=False)"
   ]
  },
  {
   "cell_type": "markdown",
   "metadata": {},
   "source": [
    "### categorical_feature_2"
   ]
  },
  {
   "cell_type": "code",
   "execution_count": null,
   "metadata": {},
   "outputs": [],
   "source": [
    "# 두 질적자료의 빈도표를 생성\n",
    "train_cross = pd.crosstab(train.label, train['categorical_feature_2'])\n",
    "train_cross.T.sort_values(by=0, ascending=False)\n",
    "print(len(train['categorical_feature_2'].unique()))"
   ]
  },
  {
   "cell_type": "markdown",
   "metadata": {},
   "source": [
    "### categorical_feature_3"
   ]
  },
  {
   "cell_type": "code",
   "execution_count": 27,
   "metadata": {},
   "outputs": [
    {
     "data": {
      "text/html": [
       "<div>\n",
       "<style scoped>\n",
       "    .dataframe tbody tr th:only-of-type {\n",
       "        vertical-align: middle;\n",
       "    }\n",
       "\n",
       "    .dataframe tbody tr th {\n",
       "        vertical-align: top;\n",
       "    }\n",
       "\n",
       "    .dataframe thead th {\n",
       "        text-align: right;\n",
       "    }\n",
       "</style>\n",
       "<table border=\"1\" class=\"dataframe\">\n",
       "  <thead>\n",
       "    <tr style=\"text-align: right;\">\n",
       "      <th>label</th>\n",
       "      <th>0</th>\n",
       "      <th>1</th>\n",
       "    </tr>\n",
       "    <tr>\n",
       "      <th>categorical_feature_3</th>\n",
       "      <th></th>\n",
       "      <th></th>\n",
       "    </tr>\n",
       "  </thead>\n",
       "  <tbody>\n",
       "    <tr>\n",
       "      <th>7fde5a70</th>\n",
       "      <td>20759</td>\n",
       "      <td>6308</td>\n",
       "    </tr>\n",
       "    <tr>\n",
       "      <th>41707ecb</th>\n",
       "      <td>20253</td>\n",
       "      <td>5290</td>\n",
       "    </tr>\n",
       "    <tr>\n",
       "      <th>12420a1e</th>\n",
       "      <td>18561</td>\n",
       "      <td>1219</td>\n",
       "    </tr>\n",
       "    <tr>\n",
       "      <th>2225c6f1</th>\n",
       "      <td>14148</td>\n",
       "      <td>728</td>\n",
       "    </tr>\n",
       "    <tr>\n",
       "      <th>ad3508b1</th>\n",
       "      <td>12178</td>\n",
       "      <td>1052</td>\n",
       "    </tr>\n",
       "    <tr>\n",
       "      <th>...</th>\n",
       "      <td>...</td>\n",
       "      <td>...</td>\n",
       "    </tr>\n",
       "    <tr>\n",
       "      <th>2a78ff55</th>\n",
       "      <td>0</td>\n",
       "      <td>2</td>\n",
       "    </tr>\n",
       "    <tr>\n",
       "      <th>cd504e87</th>\n",
       "      <td>0</td>\n",
       "      <td>2</td>\n",
       "    </tr>\n",
       "    <tr>\n",
       "      <th>e63ad2c1</th>\n",
       "      <td>0</td>\n",
       "      <td>1</td>\n",
       "    </tr>\n",
       "    <tr>\n",
       "      <th>16b705ea</th>\n",
       "      <td>0</td>\n",
       "      <td>3</td>\n",
       "    </tr>\n",
       "    <tr>\n",
       "      <th>a765a0be</th>\n",
       "      <td>0</td>\n",
       "      <td>1</td>\n",
       "    </tr>\n",
       "  </tbody>\n",
       "</table>\n",
       "<p>10878 rows × 2 columns</p>\n",
       "</div>"
      ],
      "text/plain": [
       "label                      0     1\n",
       "categorical_feature_3             \n",
       "7fde5a70               20759  6308\n",
       "41707ecb               20253  5290\n",
       "12420a1e               18561  1219\n",
       "2225c6f1               14148   728\n",
       "ad3508b1               12178  1052\n",
       "...                      ...   ...\n",
       "2a78ff55                   0     2\n",
       "cd504e87                   0     2\n",
       "e63ad2c1                   0     1\n",
       "16b705ea                   0     3\n",
       "a765a0be                   0     1\n",
       "\n",
       "[10878 rows x 2 columns]"
      ]
     },
     "execution_count": 27,
     "metadata": {},
     "output_type": "execute_result"
    }
   ],
   "source": [
    "# 두 질적자료의 빈도표를 생성\n",
    "train_cross = pd.crosstab(train.label, train['categorical_feature_3'])\n",
    "train_cross.T.sort_values(by=0, ascending=False)"
   ]
  },
  {
   "cell_type": "markdown",
   "metadata": {},
   "source": [
    "### categorical_feature_4"
   ]
  },
  {
   "cell_type": "code",
   "execution_count": 28,
   "metadata": {},
   "outputs": [
    {
     "data": {
      "text/html": [
       "<div>\n",
       "<style scoped>\n",
       "    .dataframe tbody tr th:only-of-type {\n",
       "        vertical-align: middle;\n",
       "    }\n",
       "\n",
       "    .dataframe tbody tr th {\n",
       "        vertical-align: top;\n",
       "    }\n",
       "\n",
       "    .dataframe thead th {\n",
       "        text-align: right;\n",
       "    }\n",
       "</style>\n",
       "<table border=\"1\" class=\"dataframe\">\n",
       "  <thead>\n",
       "    <tr style=\"text-align: right;\">\n",
       "      <th>label</th>\n",
       "      <th>0</th>\n",
       "      <th>1</th>\n",
       "    </tr>\n",
       "    <tr>\n",
       "      <th>categorical_feature_4</th>\n",
       "      <th></th>\n",
       "      <th></th>\n",
       "    </tr>\n",
       "  </thead>\n",
       "  <tbody>\n",
       "    <tr>\n",
       "      <th>c37c627e</th>\n",
       "      <td>33117</td>\n",
       "      <td>193</td>\n",
       "    </tr>\n",
       "    <tr>\n",
       "      <th>898ec876</th>\n",
       "      <td>28181</td>\n",
       "      <td>4431</td>\n",
       "    </tr>\n",
       "    <tr>\n",
       "      <th>eb868870</th>\n",
       "      <td>26152</td>\n",
       "      <td>11185</td>\n",
       "    </tr>\n",
       "    <tr>\n",
       "      <th>23c80a6e</th>\n",
       "      <td>25662</td>\n",
       "      <td>9946</td>\n",
       "    </tr>\n",
       "    <tr>\n",
       "      <th>68a7e258</th>\n",
       "      <td>19836</td>\n",
       "      <td>662</td>\n",
       "    </tr>\n",
       "    <tr>\n",
       "      <th>...</th>\n",
       "      <td>...</td>\n",
       "      <td>...</td>\n",
       "    </tr>\n",
       "    <tr>\n",
       "      <th>61397f0e</th>\n",
       "      <td>0</td>\n",
       "      <td>1</td>\n",
       "    </tr>\n",
       "    <tr>\n",
       "      <th>616bea0d</th>\n",
       "      <td>0</td>\n",
       "      <td>1</td>\n",
       "    </tr>\n",
       "    <tr>\n",
       "      <th>c8ce3f45</th>\n",
       "      <td>0</td>\n",
       "      <td>6</td>\n",
       "    </tr>\n",
       "    <tr>\n",
       "      <th>617cbe25</th>\n",
       "      <td>0</td>\n",
       "      <td>2</td>\n",
       "    </tr>\n",
       "    <tr>\n",
       "      <th>fffe6372</th>\n",
       "      <td>0</td>\n",
       "      <td>1</td>\n",
       "    </tr>\n",
       "  </tbody>\n",
       "</table>\n",
       "<p>8070 rows × 2 columns</p>\n",
       "</div>"
      ],
      "text/plain": [
       "label                      0      1\n",
       "categorical_feature_4              \n",
       "c37c627e               33117    193\n",
       "898ec876               28181   4431\n",
       "eb868870               26152  11185\n",
       "23c80a6e               25662   9946\n",
       "68a7e258               19836    662\n",
       "...                      ...    ...\n",
       "61397f0e                   0      1\n",
       "616bea0d                   0      1\n",
       "c8ce3f45                   0      6\n",
       "617cbe25                   0      2\n",
       "fffe6372                   0      1\n",
       "\n",
       "[8070 rows x 2 columns]"
      ]
     },
     "execution_count": 28,
     "metadata": {},
     "output_type": "execute_result"
    }
   ],
   "source": [
    "# 두 질적자료의 빈도표를 생성\n",
    "train_cross = pd.crosstab(train.label, train['categorical_feature_4'])\n",
    "train_cross.T.sort_values(by=0, ascending=False)"
   ]
  },
  {
   "cell_type": "markdown",
   "metadata": {},
   "source": [
    "### categorical_feature_5"
   ]
  },
  {
   "cell_type": "code",
   "execution_count": 29,
   "metadata": {},
   "outputs": [
    {
     "data": {
      "text/html": [
       "<div>\n",
       "<style scoped>\n",
       "    .dataframe tbody tr th:only-of-type {\n",
       "        vertical-align: middle;\n",
       "    }\n",
       "\n",
       "    .dataframe tbody tr th {\n",
       "        vertical-align: top;\n",
       "    }\n",
       "\n",
       "    .dataframe thead th {\n",
       "        text-align: right;\n",
       "    }\n",
       "</style>\n",
       "<table border=\"1\" class=\"dataframe\">\n",
       "  <thead>\n",
       "    <tr style=\"text-align: right;\">\n",
       "      <th>label</th>\n",
       "      <th>0</th>\n",
       "      <th>1</th>\n",
       "    </tr>\n",
       "    <tr>\n",
       "      <th>categorical_feature_5</th>\n",
       "      <th></th>\n",
       "      <th></th>\n",
       "    </tr>\n",
       "  </thead>\n",
       "  <tbody>\n",
       "    <tr>\n",
       "      <th>2fad1153</th>\n",
       "      <td>35671</td>\n",
       "      <td>257</td>\n",
       "    </tr>\n",
       "    <tr>\n",
       "      <th>51b97b8f</th>\n",
       "      <td>29907</td>\n",
       "      <td>8047</td>\n",
       "    </tr>\n",
       "    <tr>\n",
       "      <th>e69eaa04</th>\n",
       "      <td>27948</td>\n",
       "      <td>15361</td>\n",
       "    </tr>\n",
       "    <tr>\n",
       "      <th>46f42a63</th>\n",
       "      <td>27761</td>\n",
       "      <td>12980</td>\n",
       "    </tr>\n",
       "    <tr>\n",
       "      <th>7aab7990</th>\n",
       "      <td>22268</td>\n",
       "      <td>11317</td>\n",
       "    </tr>\n",
       "    <tr>\n",
       "      <th>...</th>\n",
       "      <td>...</td>\n",
       "      <td>...</td>\n",
       "    </tr>\n",
       "    <tr>\n",
       "      <th>5aae435a</th>\n",
       "      <td>1</td>\n",
       "      <td>0</td>\n",
       "    </tr>\n",
       "    <tr>\n",
       "      <th>3a189c6c</th>\n",
       "      <td>1</td>\n",
       "      <td>1</td>\n",
       "    </tr>\n",
       "    <tr>\n",
       "      <th>e614d3c6</th>\n",
       "      <td>1</td>\n",
       "      <td>0</td>\n",
       "    </tr>\n",
       "    <tr>\n",
       "      <th>821af398</th>\n",
       "      <td>1</td>\n",
       "      <td>0</td>\n",
       "    </tr>\n",
       "    <tr>\n",
       "      <th>244a5b82</th>\n",
       "      <td>1</td>\n",
       "      <td>0</td>\n",
       "    </tr>\n",
       "  </tbody>\n",
       "</table>\n",
       "<p>2853 rows × 2 columns</p>\n",
       "</div>"
      ],
      "text/plain": [
       "label                      0      1\n",
       "categorical_feature_5              \n",
       "2fad1153               35671    257\n",
       "51b97b8f               29907   8047\n",
       "e69eaa04               27948  15361\n",
       "46f42a63               27761  12980\n",
       "7aab7990               22268  11317\n",
       "...                      ...    ...\n",
       "5aae435a                   1      0\n",
       "3a189c6c                   1      1\n",
       "e614d3c6                   1      0\n",
       "821af398                   1      0\n",
       "244a5b82                   1      0\n",
       "\n",
       "[2853 rows x 2 columns]"
      ]
     },
     "execution_count": 29,
     "metadata": {},
     "output_type": "execute_result"
    }
   ],
   "source": [
    "# 두 질적자료의 빈도표를 생성\n",
    "train_cross = pd.crosstab(train.label, train['categorical_feature_5'])\n",
    "train_cross.T.sort_values(by=0, ascending=False)"
   ]
  },
  {
   "cell_type": "markdown",
   "metadata": {},
   "source": [
    "### categorical_feature_6"
   ]
  },
  {
   "cell_type": "code",
   "execution_count": 31,
   "metadata": {},
   "outputs": [
    {
     "data": {
      "text/html": [
       "<div>\n",
       "<style scoped>\n",
       "    .dataframe tbody tr th:only-of-type {\n",
       "        vertical-align: middle;\n",
       "    }\n",
       "\n",
       "    .dataframe tbody tr th {\n",
       "        vertical-align: top;\n",
       "    }\n",
       "\n",
       "    .dataframe thead th {\n",
       "        text-align: right;\n",
       "    }\n",
       "</style>\n",
       "<table border=\"1\" class=\"dataframe\">\n",
       "  <thead>\n",
       "    <tr style=\"text-align: right;\">\n",
       "      <th>label</th>\n",
       "      <th>0</th>\n",
       "      <th>1</th>\n",
       "    </tr>\n",
       "    <tr>\n",
       "      <th>categorical_feature_6</th>\n",
       "      <th></th>\n",
       "      <th></th>\n",
       "    </tr>\n",
       "  </thead>\n",
       "  <tbody>\n",
       "    <tr>\n",
       "      <th>198502ce</th>\n",
       "      <td>2606</td>\n",
       "      <td>0</td>\n",
       "    </tr>\n",
       "    <tr>\n",
       "      <th>20ea94d2</th>\n",
       "      <td>1373</td>\n",
       "      <td>4258</td>\n",
       "    </tr>\n",
       "    <tr>\n",
       "      <th>595fd523</th>\n",
       "      <td>1124</td>\n",
       "      <td>0</td>\n",
       "    </tr>\n",
       "    <tr>\n",
       "      <th>7813958c</th>\n",
       "      <td>961</td>\n",
       "      <td>1824</td>\n",
       "    </tr>\n",
       "    <tr>\n",
       "      <th>538c0d7f</th>\n",
       "      <td>782</td>\n",
       "      <td>0</td>\n",
       "    </tr>\n",
       "    <tr>\n",
       "      <th>...</th>\n",
       "      <td>...</td>\n",
       "      <td>...</td>\n",
       "    </tr>\n",
       "    <tr>\n",
       "      <th>56788f9f</th>\n",
       "      <td>0</td>\n",
       "      <td>1</td>\n",
       "    </tr>\n",
       "    <tr>\n",
       "      <th>5652e4dd</th>\n",
       "      <td>0</td>\n",
       "      <td>2</td>\n",
       "    </tr>\n",
       "    <tr>\n",
       "      <th>564fb6cf</th>\n",
       "      <td>0</td>\n",
       "      <td>1</td>\n",
       "    </tr>\n",
       "    <tr>\n",
       "      <th>cee52037</th>\n",
       "      <td>0</td>\n",
       "      <td>11</td>\n",
       "    </tr>\n",
       "    <tr>\n",
       "      <th>fff21a41</th>\n",
       "      <td>0</td>\n",
       "      <td>1</td>\n",
       "    </tr>\n",
       "  </tbody>\n",
       "</table>\n",
       "<p>16489 rows × 2 columns</p>\n",
       "</div>"
      ],
      "text/plain": [
       "label                     0     1\n",
       "categorical_feature_6            \n",
       "198502ce               2606     0\n",
       "20ea94d2               1373  4258\n",
       "595fd523               1124     0\n",
       "7813958c                961  1824\n",
       "538c0d7f                782     0\n",
       "...                     ...   ...\n",
       "56788f9f                  0     1\n",
       "5652e4dd                  0     2\n",
       "564fb6cf                  0     1\n",
       "cee52037                  0    11\n",
       "fff21a41                  0     1\n",
       "\n",
       "[16489 rows x 2 columns]"
      ]
     },
     "execution_count": 31,
     "metadata": {},
     "output_type": "execute_result"
    }
   ],
   "source": [
    "# 두 질적자료의 빈도표를 생성\n",
    "train_cross = pd.crosstab(train.label, train['categorical_feature_6'])\n",
    "train_cross.T.sort_values(by=0, ascending=False)"
   ]
  },
  {
   "cell_type": "markdown",
   "metadata": {},
   "source": [
    "### categorical_feature_7"
   ]
  },
  {
   "cell_type": "code",
   "execution_count": 30,
   "metadata": {},
   "outputs": [
    {
     "data": {
      "text/html": [
       "<div>\n",
       "<style scoped>\n",
       "    .dataframe tbody tr th:only-of-type {\n",
       "        vertical-align: middle;\n",
       "    }\n",
       "\n",
       "    .dataframe tbody tr th {\n",
       "        vertical-align: top;\n",
       "    }\n",
       "\n",
       "    .dataframe thead th {\n",
       "        text-align: right;\n",
       "    }\n",
       "</style>\n",
       "<table border=\"1\" class=\"dataframe\">\n",
       "  <thead>\n",
       "    <tr style=\"text-align: right;\">\n",
       "      <th>label</th>\n",
       "      <th>0</th>\n",
       "      <th>1</th>\n",
       "    </tr>\n",
       "    <tr>\n",
       "      <th>categorical_feature_7</th>\n",
       "      <th></th>\n",
       "      <th></th>\n",
       "    </tr>\n",
       "  </thead>\n",
       "  <tbody>\n",
       "    <tr>\n",
       "      <th>5d4be191</th>\n",
       "      <td>36754</td>\n",
       "      <td>8228</td>\n",
       "    </tr>\n",
       "    <tr>\n",
       "      <th>1b2b16d5</th>\n",
       "      <td>30834</td>\n",
       "      <td>11912</td>\n",
       "    </tr>\n",
       "    <tr>\n",
       "      <th>dd50d10b</th>\n",
       "      <td>27951</td>\n",
       "      <td>6920</td>\n",
       "    </tr>\n",
       "    <tr>\n",
       "      <th>6ba8bf37</th>\n",
       "      <td>27097</td>\n",
       "      <td>8331</td>\n",
       "    </tr>\n",
       "    <tr>\n",
       "      <th>55da8610</th>\n",
       "      <td>24450</td>\n",
       "      <td>6599</td>\n",
       "    </tr>\n",
       "    <tr>\n",
       "      <th>...</th>\n",
       "      <td>...</td>\n",
       "      <td>...</td>\n",
       "    </tr>\n",
       "    <tr>\n",
       "      <th>c23848ed</th>\n",
       "      <td>0</td>\n",
       "      <td>1</td>\n",
       "    </tr>\n",
       "    <tr>\n",
       "      <th>1ec17097</th>\n",
       "      <td>0</td>\n",
       "      <td>1</td>\n",
       "    </tr>\n",
       "    <tr>\n",
       "      <th>1e905e38</th>\n",
       "      <td>0</td>\n",
       "      <td>2</td>\n",
       "    </tr>\n",
       "    <tr>\n",
       "      <th>6deb2048</th>\n",
       "      <td>0</td>\n",
       "      <td>1</td>\n",
       "    </tr>\n",
       "    <tr>\n",
       "      <th>a2b77943</th>\n",
       "      <td>0</td>\n",
       "      <td>2</td>\n",
       "    </tr>\n",
       "  </tbody>\n",
       "</table>\n",
       "<p>9823 rows × 2 columns</p>\n",
       "</div>"
      ],
      "text/plain": [
       "label                      0      1\n",
       "categorical_feature_7              \n",
       "5d4be191               36754   8228\n",
       "1b2b16d5               30834  11912\n",
       "dd50d10b               27951   6920\n",
       "6ba8bf37               27097   8331\n",
       "55da8610               24450   6599\n",
       "...                      ...    ...\n",
       "c23848ed                   0      1\n",
       "1ec17097                   0      1\n",
       "1e905e38                   0      2\n",
       "6deb2048                   0      1\n",
       "a2b77943                   0      2\n",
       "\n",
       "[9823 rows x 2 columns]"
      ]
     },
     "execution_count": 30,
     "metadata": {},
     "output_type": "execute_result"
    }
   ],
   "source": [
    "# 두 질적자료의 빈도표를 생성\n",
    "train_cross = pd.crosstab(train.label, train['categorical_feature_7'])\n",
    "train_cross.T.sort_values(by=0, ascending=False)"
   ]
  },
  {
   "cell_type": "markdown",
   "metadata": {},
   "source": [
    "### categorical_feature_8"
   ]
  },
  {
   "cell_type": "code",
   "execution_count": 13,
   "metadata": {},
   "outputs": [
    {
     "data": {
      "text/html": [
       "<div>\n",
       "<style scoped>\n",
       "    .dataframe tbody tr th:only-of-type {\n",
       "        vertical-align: middle;\n",
       "    }\n",
       "\n",
       "    .dataframe tbody tr th {\n",
       "        vertical-align: top;\n",
       "    }\n",
       "\n",
       "    .dataframe thead th {\n",
       "        text-align: right;\n",
       "    }\n",
       "</style>\n",
       "<table border=\"1\" class=\"dataframe\">\n",
       "  <thead>\n",
       "    <tr style=\"text-align: right;\">\n",
       "      <th>label</th>\n",
       "      <th>0</th>\n",
       "      <th>1</th>\n",
       "    </tr>\n",
       "    <tr>\n",
       "      <th>categorical_feature_8</th>\n",
       "      <th></th>\n",
       "      <th></th>\n",
       "    </tr>\n",
       "  </thead>\n",
       "  <tbody>\n",
       "    <tr>\n",
       "      <th>e5ba7672</th>\n",
       "      <td>1125511</td>\n",
       "      <td>169238</td>\n",
       "    </tr>\n",
       "    <tr>\n",
       "      <th>07c540c4</th>\n",
       "      <td>236832</td>\n",
       "      <td>36638</td>\n",
       "    </tr>\n",
       "    <tr>\n",
       "      <th>d4bb7bd8</th>\n",
       "      <td>178075</td>\n",
       "      <td>25785</td>\n",
       "    </tr>\n",
       "    <tr>\n",
       "      <th>3486227d</th>\n",
       "      <td>141981</td>\n",
       "      <td>88392</td>\n",
       "    </tr>\n",
       "    <tr>\n",
       "      <th>27c07bd6</th>\n",
       "      <td>91736</td>\n",
       "      <td>87327</td>\n",
       "    </tr>\n",
       "    <tr>\n",
       "      <th>8efede7f</th>\n",
       "      <td>89449</td>\n",
       "      <td>145438</td>\n",
       "    </tr>\n",
       "    <tr>\n",
       "      <th>1e88c74f</th>\n",
       "      <td>52654</td>\n",
       "      <td>4614</td>\n",
       "    </tr>\n",
       "    <tr>\n",
       "      <th>776ce399</th>\n",
       "      <td>39991</td>\n",
       "      <td>4610</td>\n",
       "    </tr>\n",
       "    <tr>\n",
       "      <th>2005abd1</th>\n",
       "      <td>18058</td>\n",
       "      <td>205</td>\n",
       "    </tr>\n",
       "    <tr>\n",
       "      <th>af5d780c</th>\n",
       "      <td>1</td>\n",
       "      <td>0</td>\n",
       "    </tr>\n",
       "  </tbody>\n",
       "</table>\n",
       "</div>"
      ],
      "text/plain": [
       "label                        0       1\n",
       "categorical_feature_8                 \n",
       "e5ba7672               1125511  169238\n",
       "07c540c4                236832   36638\n",
       "d4bb7bd8                178075   25785\n",
       "3486227d                141981   88392\n",
       "27c07bd6                 91736   87327\n",
       "8efede7f                 89449  145438\n",
       "1e88c74f                 52654    4614\n",
       "776ce399                 39991    4610\n",
       "2005abd1                 18058     205\n",
       "af5d780c                     1       0"
      ]
     },
     "execution_count": 13,
     "metadata": {},
     "output_type": "execute_result"
    }
   ],
   "source": [
    "# 두 질적자료의 빈도표를 생성\n",
    "train_cross = pd.crosstab(train.label, train['categorical_feature_8'])\n",
    "train_cross.T.sort_values(by=0, ascending=False)"
   ]
  },
  {
   "cell_type": "markdown",
   "metadata": {},
   "source": [
    "### categorical_feature_9"
   ]
  },
  {
   "cell_type": "code",
   "execution_count": 26,
   "metadata": {},
   "outputs": [
    {
     "data": {
      "text/html": [
       "<div>\n",
       "<style scoped>\n",
       "    .dataframe tbody tr th:only-of-type {\n",
       "        vertical-align: middle;\n",
       "    }\n",
       "\n",
       "    .dataframe tbody tr th {\n",
       "        vertical-align: top;\n",
       "    }\n",
       "\n",
       "    .dataframe thead th {\n",
       "        text-align: right;\n",
       "    }\n",
       "</style>\n",
       "<table border=\"1\" class=\"dataframe\">\n",
       "  <thead>\n",
       "    <tr style=\"text-align: right;\">\n",
       "      <th>label</th>\n",
       "      <th>0</th>\n",
       "      <th>1</th>\n",
       "    </tr>\n",
       "    <tr>\n",
       "      <th>categorical_feature_9</th>\n",
       "      <th></th>\n",
       "      <th></th>\n",
       "    </tr>\n",
       "  </thead>\n",
       "  <tbody>\n",
       "    <tr>\n",
       "      <th>28439657</th>\n",
       "      <td>5936</td>\n",
       "      <td>5971</td>\n",
       "    </tr>\n",
       "    <tr>\n",
       "      <th>66780853</th>\n",
       "      <td>5381</td>\n",
       "      <td>72</td>\n",
       "    </tr>\n",
       "    <tr>\n",
       "      <th>5f447f1c</th>\n",
       "      <td>4418</td>\n",
       "      <td>1773</td>\n",
       "    </tr>\n",
       "    <tr>\n",
       "      <th>a310950a</th>\n",
       "      <td>4277</td>\n",
       "      <td>4835</td>\n",
       "    </tr>\n",
       "    <tr>\n",
       "      <th>4c26e465</th>\n",
       "      <td>4075</td>\n",
       "      <td>2361</td>\n",
       "    </tr>\n",
       "    <tr>\n",
       "      <th>...</th>\n",
       "      <td>...</td>\n",
       "      <td>...</td>\n",
       "    </tr>\n",
       "    <tr>\n",
       "      <th>27d21956</th>\n",
       "      <td>0</td>\n",
       "      <td>1</td>\n",
       "    </tr>\n",
       "    <tr>\n",
       "      <th>dc98c4be</th>\n",
       "      <td>0</td>\n",
       "      <td>3</td>\n",
       "    </tr>\n",
       "    <tr>\n",
       "      <th>5f38ca9e</th>\n",
       "      <td>0</td>\n",
       "      <td>1</td>\n",
       "    </tr>\n",
       "    <tr>\n",
       "      <th>aaa046a0</th>\n",
       "      <td>0</td>\n",
       "      <td>3</td>\n",
       "    </tr>\n",
       "    <tr>\n",
       "      <th>c26a2ccb</th>\n",
       "      <td>0</td>\n",
       "      <td>9</td>\n",
       "    </tr>\n",
       "  </tbody>\n",
       "</table>\n",
       "<p>8710 rows × 2 columns</p>\n",
       "</div>"
      ],
      "text/plain": [
       "label                     0     1\n",
       "categorical_feature_9            \n",
       "28439657               5936  5971\n",
       "66780853               5381    72\n",
       "5f447f1c               4418  1773\n",
       "a310950a               4277  4835\n",
       "4c26e465               4075  2361\n",
       "...                     ...   ...\n",
       "27d21956                  0     1\n",
       "dc98c4be                  0     3\n",
       "5f38ca9e                  0     1\n",
       "aaa046a0                  0     3\n",
       "c26a2ccb                  0     9\n",
       "\n",
       "[8710 rows x 2 columns]"
      ]
     },
     "execution_count": 26,
     "metadata": {},
     "output_type": "execute_result"
    }
   ],
   "source": [
    "# 두 질적자료의 빈도표를 생성\n",
    "train_cross = pd.crosstab(train.label, train['categorical_feature_9'])\n",
    "train_cross.T.sort_values(by=0, ascending=False)"
   ]
  },
  {
   "cell_type": "markdown",
   "metadata": {},
   "source": [
    "# 4. DeepFM 모델 생성 및 검증 "
   ]
  },
  {
   "cell_type": "code",
   "execution_count": 32,
   "metadata": {},
   "outputs": [],
   "source": [
    "import pandas as pd\n",
    "import numpy as np\n",
    "from sklearn.metrics import log_loss, roc_auc_score\n",
    "from sklearn.model_selection import train_test_split\n",
    "from sklearn.preprocessing import LabelEncoder, MinMaxScaler\n",
    "\n",
    "from deepctr.models import *\n",
    "from deepctr.feature_column import SparseFeat, DenseFeat, get_feature_names"
   ]
  },
  {
   "cell_type": "code",
   "execution_count": 33,
   "metadata": {},
   "outputs": [],
   "source": [
    "import pandas as pd\n",
    "pd.options.display.float_format='{:.5f}'.format # 5자리까지출력\n",
    "\n",
    "import warnings\n",
    "warnings.filterwarnings(action='ignore') # 에러는 무시\n",
    "\n",
    "train_raw = pd.read_csv('data/train.csv')\n",
    "valid_raw = pd.read_csv('data/validation.csv')\n",
    "test_raw = pd.read_csv('data/test.csv')"
   ]
  },
  {
   "cell_type": "code",
   "execution_count": 66,
   "metadata": {},
   "outputs": [
    {
     "name": "stdout",
     "output_type": "stream",
     "text": [
      "Epoch 1/10\n",
      "6936/6936 [==============================] - 30s 4ms/step - loss: 0.3780 - accuracy: 0.8370 - val_loss: 0.3755 - val_accuracy: 0.8397\n",
      "Epoch 2/10\n",
      "6936/6936 [==============================] - 30s 4ms/step - loss: 0.3716 - accuracy: 0.8400 - val_loss: 0.3751 - val_accuracy: 0.8404\n",
      "Epoch 3/10\n",
      "6936/6936 [==============================] - 30s 4ms/step - loss: 0.3708 - accuracy: 0.8406 - val_loss: 0.3754 - val_accuracy: 0.8406\n",
      "Epoch 4/10\n",
      "6936/6936 [==============================] - 30s 4ms/step - loss: 0.3704 - accuracy: 0.8410 - val_loss: 0.3756 - val_accuracy: 0.8404\n",
      "Epoch 5/10\n",
      "6936/6936 [==============================] - 30s 4ms/step - loss: 0.3700 - accuracy: 0.8411 - val_loss: 0.3753 - val_accuracy: 0.8405\n",
      "Epoch 6/10\n",
      "6936/6936 [==============================] - 30s 4ms/step - loss: 0.3697 - accuracy: 0.8414 - val_loss: 0.3756 - val_accuracy: 0.8409\n",
      "Epoch 7/10\n",
      "6936/6936 [==============================] - 30s 4ms/step - loss: 0.3696 - accuracy: 0.8415 - val_loss: 0.3755 - val_accuracy: 0.8408\n",
      "Epoch 8/10\n",
      "6936/6936 [==============================] - 30s 4ms/step - loss: 0.3694 - accuracy: 0.8419 - val_loss: 0.3767 - val_accuracy: 0.8405\n",
      "Epoch 9/10\n",
      "6936/6936 [==============================] - 30s 4ms/step - loss: 0.3693 - accuracy: 0.8419 - val_loss: 0.3765 - val_accuracy: 0.8408\n",
      "Epoch 10/10\n",
      "6936/6936 [==============================] - 30s 4ms/step - loss: 0.3691 - accuracy: 0.8420 - val_loss: 0.3766 - val_accuracy: 0.8408\n"
     ]
    }
   ],
   "source": [
    "dense_features = train_raw.iloc[:,1:9].columns \n",
    "sparse_features = train_raw.iloc[:,9:18].columns \n",
    "\n",
    "train_raw[sparse_features] = train_raw[sparse_features].fillna('-1', )\n",
    "train_raw[dense_features] = train_raw[dense_features].fillna(0, )\n",
    "target = ['label']\n",
    "for feat in sparse_features:\n",
    "    lbe = LabelEncoder()\n",
    "    train_raw[feat] = lbe.fit_transform(train_raw[feat])\n",
    "mms = MinMaxScaler(feature_range=(0, 1))\n",
    "train_raw[dense_features] = mms.fit_transform(train_raw[dense_features])\n",
    "\n",
    "\n",
    "fixlen_feature_columns = [SparseFeat(feat, vocabulary_size=train_raw[feat].nunique(),embedding_dim=4)\n",
    "                       for i,feat in enumerate(sparse_features)] + [DenseFeat(feat, 1,)\n",
    "                      for feat in dense_features]\n",
    "\n",
    "dnn_feature_columns = fixlen_feature_columns\n",
    "linear_feature_columns = fixlen_feature_columns\n",
    "\n",
    "feature_names = get_feature_names(linear_feature_columns + dnn_feature_columns)\n",
    "train_model_input = {name:train_raw[name] for name in feature_names}\n",
    "\n",
    "\n",
    "model = DeepFM(linear_feature_columns, dnn_feature_columns, task='binary',dnn_hidden_units=(32,))\n",
    "model.compile(\"adam\", \"binary_crossentropy\",\n",
    "              metrics=['accuracy'], )\n",
    "\n",
    "history = model.fit(train_model_input, train_raw[target].values, \n",
    "                    batch_size=256, epochs=10, verbose=1, validation_split=0.3,)"
   ]
  },
  {
   "cell_type": "code",
   "execution_count": 69,
   "metadata": {},
   "outputs": [
    {
     "data": {
      "image/png": "[encoded data removed]",
      "text/plain": [
       "<Figure size 432x288 with 1 Axes>"
      ]
     },
     "metadata": {
      "needs_background": "light"
     },
     "output_type": "display_data"
    }
   ],
   "source": [
    "# loss 시각화\n",
    "plt.plot(history.history['loss'])\n",
    "plt.plot(history.history['val_loss'])\n",
    "plt.title('Model loss')\n",
    "plt.xlabel('Epoch')\n",
    "plt.ylabel('loss')\n",
    "plt.legend(['Train', 'Test'], loc='upper left')\n",
    "plt.show()"
   ]
  },
  {
   "cell_type": "code",
   "execution_count": 70,
   "metadata": {},
   "outputs": [
    {
     "data": {
      "image/png": "[encoded data removed]",
      "text/plain": [
       "<Figure size 432x288 with 1 Axes>"
      ]
     },
     "metadata": {
      "needs_background": "light"
     },
     "output_type": "display_data"
    }
   ],
   "source": [
    "# 정확도 시각화\n",
    "plt.plot(history.history['accuracy'])\n",
    "plt.plot(history.history['val_accuracy'])\n",
    "plt.title('Model accuracy')\n",
    "plt.xlabel('Epoch')\n",
    "plt.ylabel('Accuracy')\n",
    "plt.legend(['Train', 'Test'], loc='upper left')\n",
    "plt.show()"
   ]
  },
  {
   "cell_type": "code",
   "execution_count": 71,
   "metadata": {},
   "outputs": [
    {
     "name": "stdout",
     "output_type": "stream",
     "text": [
      "valid LogLoss 0.4968\n",
      "valid AUC 0.7037\n"
     ]
    }
   ],
   "source": [
    "# valid 데이터로 검증\n",
    "dense_features = valid_raw.iloc[:,1:9].columns \n",
    "sparse_features = valid_raw.iloc[:,9:18].columns \n",
    "\n",
    "valid_raw[sparse_features] = valid_raw[sparse_features].fillna('-1', )\n",
    "valid_raw[dense_features] = valid_raw[dense_features].fillna(0, )\n",
    "target = ['label']\n",
    "for feat in sparse_features:\n",
    "    lbe = LabelEncoder()\n",
    "    valid_raw[feat] = lbe.fit_transform(valid_raw[feat])\n",
    "mms = MinMaxScaler(feature_range=(0, 1))\n",
    "valid_raw[dense_features] = mms.fit_transform(valid_raw[dense_features])\n",
    "\n",
    "\n",
    "fixlen_feature_columns = [SparseFeat(feat, vocabulary_size=valid_raw[feat].nunique(),embedding_dim=4)\n",
    "                       for i,feat in enumerate(sparse_features)] + [DenseFeat(feat, 1,)\n",
    "                      for feat in dense_features]\n",
    "\n",
    "dnn_feature_columns = fixlen_feature_columns\n",
    "linear_feature_columns = fixlen_feature_columns\n",
    "\n",
    "feature_names = get_feature_names(linear_feature_columns + dnn_feature_columns)\n",
    "valid_model_input = {name:valid_raw[name] for name in feature_names}\n",
    "\n",
    "\n",
    "pred_ans = model.predict(valid_model_input, batch_size=256)\n",
    "print(\"valid LogLoss\", round(log_loss(valid_raw[target].values, pred_ans), 4))\n",
    "print(\"valid AUC\", round(roc_auc_score(valid_raw[target].values, pred_ans), 4))"
   ]
  },
  {
   "cell_type": "code",
   "execution_count": 72,
   "metadata": {},
   "outputs": [],
   "source": [
    "# test데이터 입력데이터 생성\n",
    "dense_features = test_raw.iloc[:,2:10].columns  \n",
    "sparse_features = test_raw.iloc[:,10:].columns\n",
    "\n",
    "test_raw[sparse_features] = test_raw[sparse_features].fillna('-1', )\n",
    "test_raw[dense_features] = test_raw[dense_features].fillna(0, )\n",
    "\n",
    "for feat in sparse_features:\n",
    "    lbe = LabelEncoder()\n",
    "    test_raw[feat] = lbe.fit_transform(test_raw[feat])\n",
    "mms = MinMaxScaler(feature_range=(0, 1))\n",
    "test_raw[dense_features] = mms.fit_transform(test_raw[dense_features])\n",
    "\n",
    "\n",
    "fixlen_feature_columns = [SparseFeat(feat, vocabulary_size=test_raw[feat].nunique(),embedding_dim=4)\n",
    "                       for i,feat in enumerate(sparse_features)] + [DenseFeat(feat, 1,)\n",
    "                      for feat in dense_features]\n",
    "\n",
    "dnn_feature_columns = fixlen_feature_columns\n",
    "linear_feature_columns = fixlen_feature_columns\n",
    "\n",
    "\n",
    "feature_names = get_feature_names(linear_feature_columns + dnn_feature_columns)\n",
    "test_model_input = {name:test_raw[name] for name in feature_names}"
   ]
  },
  {
   "cell_type": "code",
   "execution_count": 73,
   "metadata": {},
   "outputs": [
    {
     "data": {
      "text/html": [
       "<div>\n",
       "<style scoped>\n",
       "    .dataframe tbody tr th:only-of-type {\n",
       "        vertical-align: middle;\n",
       "    }\n",
       "\n",
       "    .dataframe tbody tr th {\n",
       "        vertical-align: top;\n",
       "    }\n",
       "\n",
       "    .dataframe thead th {\n",
       "        text-align: right;\n",
       "    }\n",
       "</style>\n",
       "<table border=\"1\" class=\"dataframe\">\n",
       "  <thead>\n",
       "    <tr style=\"text-align: right;\">\n",
       "      <th></th>\n",
       "      <th>id</th>\n",
       "      <th>predicted</th>\n",
       "    </tr>\n",
       "  </thead>\n",
       "  <tbody>\n",
       "    <tr>\n",
       "      <th>0</th>\n",
       "      <td>1</td>\n",
       "      <td>0.44949</td>\n",
       "    </tr>\n",
       "    <tr>\n",
       "      <th>1</th>\n",
       "      <td>2</td>\n",
       "      <td>0.17959</td>\n",
       "    </tr>\n",
       "    <tr>\n",
       "      <th>2</th>\n",
       "      <td>3</td>\n",
       "      <td>0.37925</td>\n",
       "    </tr>\n",
       "    <tr>\n",
       "      <th>3</th>\n",
       "      <td>4</td>\n",
       "      <td>0.65164</td>\n",
       "    </tr>\n",
       "    <tr>\n",
       "      <th>4</th>\n",
       "      <td>5</td>\n",
       "      <td>0.36221</td>\n",
       "    </tr>\n",
       "    <tr>\n",
       "      <th>...</th>\n",
       "      <td>...</td>\n",
       "      <td>...</td>\n",
       "    </tr>\n",
       "    <tr>\n",
       "      <th>498548</th>\n",
       "      <td>498549</td>\n",
       "      <td>0.14361</td>\n",
       "    </tr>\n",
       "    <tr>\n",
       "      <th>498549</th>\n",
       "      <td>498550</td>\n",
       "      <td>0.22605</td>\n",
       "    </tr>\n",
       "    <tr>\n",
       "      <th>498550</th>\n",
       "      <td>498551</td>\n",
       "      <td>0.06087</td>\n",
       "    </tr>\n",
       "    <tr>\n",
       "      <th>498551</th>\n",
       "      <td>498552</td>\n",
       "      <td>0.21389</td>\n",
       "    </tr>\n",
       "    <tr>\n",
       "      <th>498552</th>\n",
       "      <td>498553</td>\n",
       "      <td>0.14497</td>\n",
       "    </tr>\n",
       "  </tbody>\n",
       "</table>\n",
       "<p>498553 rows × 2 columns</p>\n",
       "</div>"
      ],
      "text/plain": [
       "            id  predicted\n",
       "0            1    0.44949\n",
       "1            2    0.17959\n",
       "2            3    0.37925\n",
       "3            4    0.65164\n",
       "4            5    0.36221\n",
       "...        ...        ...\n",
       "498548  498549    0.14361\n",
       "498549  498550    0.22605\n",
       "498550  498551    0.06087\n",
       "498551  498552    0.21389\n",
       "498552  498553    0.14497\n",
       "\n",
       "[498553 rows x 2 columns]"
      ]
     },
     "execution_count": 73,
     "metadata": {},
     "output_type": "execute_result"
    }
   ],
   "source": [
    "# 5.제출\n",
    "test_pred = model.predict(test_model_input)\n",
    "\n",
    "submission = pd.DataFrame(columns = ['id','predicted'], dtype='float')\n",
    "submission['id'] = test_raw['id']\n",
    "submission['predicted'] = test_pred\n",
    "submission"
   ]
  },
  {
   "cell_type": "markdown",
   "metadata": {},
   "source": [
    "# 5.LGBM 모델 생성 및 검증 +  변수중요도 분석"
   ]
  },
  {
   "cell_type": "code",
   "execution_count": 74,
   "metadata": {},
   "outputs": [],
   "source": [
    "import pandas as pd\n",
    "pd.options.display.float_format='{:.5f}'.format # 5자리까지출력\n",
    "\n",
    "import warnings\n",
    "warnings.filterwarnings(action='ignore') # 에러는 무시\n",
    "\n",
    "train_raw = pd.read_csv('data/train.csv')\n",
    "valid_raw = pd.read_csv('data/validation.csv')\n",
    "test_raw = pd.read_csv('data/test.csv')"
   ]
  },
  {
   "cell_type": "code",
   "execution_count": 75,
   "metadata": {},
   "outputs": [],
   "source": [
    "# category 데이터로 변환\n",
    "cate_features = [col for c, col in enumerate(train_raw.columns) if 'cat' in col]\n",
    "train_raw[cate_features] = train_raw[cate_features].astype('category')\n",
    "valid_raw[cate_features] = valid_raw[cate_features].astype('category')\n",
    "\n",
    "# category 데이터로 변환\n",
    "cate_features2 = [col for c, col in enumerate(test_raw.columns) if 'cat' in col]\n",
    "test_raw[cate_features2] = test_raw[cate_features2].astype('category')"
   ]
  },
  {
   "cell_type": "code",
   "execution_count": 76,
   "metadata": {},
   "outputs": [],
   "source": [
    "# 데이터 추출\n",
    "x_train = train_raw.drop(['click_timestamp','label'], axis =1)\n",
    "y_train = train_raw['label']\n",
    "x_valid = valid_raw.drop(['click_timestamp','label'], axis =1)\n",
    "y_valid = valid_raw['label']"
   ]
  },
  {
   "cell_type": "code",
   "execution_count": 80,
   "metadata": {},
   "outputs": [
    {
     "name": "stdout",
     "output_type": "stream",
     "text": [
      "[LightGBM] [Warning] Unknown parameter: n_estimator\n",
      "[LightGBM] [Warning] Accuracy may be bad since you didn't explicitly set num_leaves OR 2^max_depth > num_leaves. (num_leaves=31).\n",
      "[1]\ttraining's auc: 0.824452\ttraining's binary_logloss: 0.500066\tvalid_1's auc: 0.811177\tvalid_1's binary_logloss: 0.499091\n",
      "Training until validation scores don't improve for 100 rounds\n",
      "[2]\ttraining's auc: 0.834841\ttraining's binary_logloss: 0.478647\tvalid_1's auc: 0.821754\tvalid_1's binary_logloss: 0.478771\n",
      "[3]\ttraining's auc: 0.837729\ttraining's binary_logloss: 0.461889\tvalid_1's auc: 0.824432\tvalid_1's binary_logloss: 0.462883\n",
      "[4]\ttraining's auc: 0.838638\ttraining's binary_logloss: 0.448345\tvalid_1's auc: 0.825309\tvalid_1's binary_logloss: 0.450038\n",
      "[5]\ttraining's auc: 0.839543\ttraining's binary_logloss: 0.4375\tvalid_1's auc: 0.826283\tvalid_1's binary_logloss: 0.439818\n",
      "[6]\ttraining's auc: 0.841826\ttraining's binary_logloss: 0.428472\tvalid_1's auc: 0.828057\tvalid_1's binary_logloss: 0.431355\n",
      "[7]\ttraining's auc: 0.843025\ttraining's binary_logloss: 0.420848\tvalid_1's auc: 0.829463\tvalid_1's binary_logloss: 0.424211\n",
      "[8]\ttraining's auc: 0.844071\ttraining's binary_logloss: 0.414452\tvalid_1's auc: 0.83057\tvalid_1's binary_logloss: 0.418252\n",
      "[9]\ttraining's auc: 0.845555\ttraining's binary_logloss: 0.40905\tvalid_1's auc: 0.831928\tvalid_1's binary_logloss: 0.413311\n",
      "[10]\ttraining's auc: 0.846999\ttraining's binary_logloss: 0.404528\tvalid_1's auc: 0.833265\tvalid_1's binary_logloss: 0.409132\n",
      "[11]\ttraining's auc: 0.847685\ttraining's binary_logloss: 0.400631\tvalid_1's auc: 0.834023\tvalid_1's binary_logloss: 0.405591\n",
      "[12]\ttraining's auc: 0.848277\ttraining's binary_logloss: 0.397118\tvalid_1's auc: 0.834598\tvalid_1's binary_logloss: 0.402484\n",
      "[13]\ttraining's auc: 0.849111\ttraining's binary_logloss: 0.394289\tvalid_1's auc: 0.835347\tvalid_1's binary_logloss: 0.400049\n",
      "[14]\ttraining's auc: 0.849611\ttraining's binary_logloss: 0.391831\tvalid_1's auc: 0.835877\tvalid_1's binary_logloss: 0.397891\n",
      "[15]\ttraining's auc: 0.850109\ttraining's binary_logloss: 0.389512\tvalid_1's auc: 0.836296\tvalid_1's binary_logloss: 0.395862\n",
      "[16]\ttraining's auc: 0.851499\ttraining's binary_logloss: 0.387542\tvalid_1's auc: 0.837634\tvalid_1's binary_logloss: 0.394167\n",
      "[17]\ttraining's auc: 0.852084\ttraining's binary_logloss: 0.385857\tvalid_1's auc: 0.838148\tvalid_1's binary_logloss: 0.392804\n",
      "[18]\ttraining's auc: 0.852585\ttraining's binary_logloss: 0.384368\tvalid_1's auc: 0.838608\tvalid_1's binary_logloss: 0.391566\n",
      "[19]\ttraining's auc: 0.852954\ttraining's binary_logloss: 0.382985\tvalid_1's auc: 0.838922\tvalid_1's binary_logloss: 0.390431\n",
      "[20]\ttraining's auc: 0.853415\ttraining's binary_logloss: 0.381715\tvalid_1's auc: 0.839364\tvalid_1's binary_logloss: 0.389387\n",
      "[21]\ttraining's auc: 0.853813\ttraining's binary_logloss: 0.380633\tvalid_1's auc: 0.839683\tvalid_1's binary_logloss: 0.388523\n",
      "[22]\ttraining's auc: 0.854019\ttraining's binary_logloss: 0.379631\tvalid_1's auc: 0.839886\tvalid_1's binary_logloss: 0.387724\n",
      "[23]\ttraining's auc: 0.854322\ttraining's binary_logloss: 0.378838\tvalid_1's auc: 0.840164\tvalid_1's binary_logloss: 0.387094\n",
      "[24]\ttraining's auc: 0.854733\ttraining's binary_logloss: 0.378046\tvalid_1's auc: 0.840586\tvalid_1's binary_logloss: 0.386517\n",
      "[25]\ttraining's auc: 0.8551\ttraining's binary_logloss: 0.377295\tvalid_1's auc: 0.840882\tvalid_1's binary_logloss: 0.385935\n",
      "[26]\ttraining's auc: 0.855361\ttraining's binary_logloss: 0.376598\tvalid_1's auc: 0.841032\tvalid_1's binary_logloss: 0.385447\n",
      "[27]\ttraining's auc: 0.855594\ttraining's binary_logloss: 0.376015\tvalid_1's auc: 0.841255\tvalid_1's binary_logloss: 0.385016\n",
      "[28]\ttraining's auc: 0.855934\ttraining's binary_logloss: 0.375391\tvalid_1's auc: 0.841578\tvalid_1's binary_logloss: 0.384532\n",
      "[29]\ttraining's auc: 0.856199\ttraining's binary_logloss: 0.374863\tvalid_1's auc: 0.841803\tvalid_1's binary_logloss: 0.384184\n",
      "[30]\ttraining's auc: 0.856458\ttraining's binary_logloss: 0.374357\tvalid_1's auc: 0.841965\tvalid_1's binary_logloss: 0.383815\n",
      "[31]\ttraining's auc: 0.856647\ttraining's binary_logloss: 0.373927\tvalid_1's auc: 0.842147\tvalid_1's binary_logloss: 0.383514\n",
      "[32]\ttraining's auc: 0.856876\ttraining's binary_logloss: 0.373511\tvalid_1's auc: 0.842304\tvalid_1's binary_logloss: 0.383234\n",
      "[33]\ttraining's auc: 0.857163\ttraining's binary_logloss: 0.373033\tvalid_1's auc: 0.842557\tvalid_1's binary_logloss: 0.382878\n",
      "[34]\ttraining's auc: 0.857346\ttraining's binary_logloss: 0.37272\tvalid_1's auc: 0.842718\tvalid_1's binary_logloss: 0.382641\n",
      "[35]\ttraining's auc: 0.857558\ttraining's binary_logloss: 0.372341\tvalid_1's auc: 0.8429\tvalid_1's binary_logloss: 0.382415\n",
      "[36]\ttraining's auc: 0.857765\ttraining's binary_logloss: 0.372032\tvalid_1's auc: 0.843081\tvalid_1's binary_logloss: 0.382192\n",
      "[37]\ttraining's auc: 0.857983\ttraining's binary_logloss: 0.371636\tvalid_1's auc: 0.843243\tvalid_1's binary_logloss: 0.38191\n",
      "[38]\ttraining's auc: 0.858138\ttraining's binary_logloss: 0.371421\tvalid_1's auc: 0.843394\tvalid_1's binary_logloss: 0.381716\n",
      "[39]\ttraining's auc: 0.858313\ttraining's binary_logloss: 0.371201\tvalid_1's auc: 0.843555\tvalid_1's binary_logloss: 0.381537\n",
      "[40]\ttraining's auc: 0.858444\ttraining's binary_logloss: 0.371008\tvalid_1's auc: 0.843664\tvalid_1's binary_logloss: 0.381423\n",
      "[41]\ttraining's auc: 0.858629\ttraining's binary_logloss: 0.370813\tvalid_1's auc: 0.843823\tvalid_1's binary_logloss: 0.381278\n",
      "[42]\ttraining's auc: 0.858772\ttraining's binary_logloss: 0.370605\tvalid_1's auc: 0.843957\tvalid_1's binary_logloss: 0.381108\n",
      "[43]\ttraining's auc: 0.858912\ttraining's binary_logloss: 0.370391\tvalid_1's auc: 0.844081\tvalid_1's binary_logloss: 0.380956\n",
      "[44]\ttraining's auc: 0.859061\ttraining's binary_logloss: 0.370178\tvalid_1's auc: 0.844199\tvalid_1's binary_logloss: 0.380829\n",
      "[45]\ttraining's auc: 0.859226\ttraining's binary_logloss: 0.369998\tvalid_1's auc: 0.844318\tvalid_1's binary_logloss: 0.380691\n",
      "[46]\ttraining's auc: 0.85943\ttraining's binary_logloss: 0.369706\tvalid_1's auc: 0.844463\tvalid_1's binary_logloss: 0.380488\n",
      "[47]\ttraining's auc: 0.859549\ttraining's binary_logloss: 0.369544\tvalid_1's auc: 0.844547\tvalid_1's binary_logloss: 0.380378\n",
      "[48]\ttraining's auc: 0.859667\ttraining's binary_logloss: 0.369381\tvalid_1's auc: 0.844623\tvalid_1's binary_logloss: 0.380276\n",
      "[49]\ttraining's auc: 0.859834\ttraining's binary_logloss: 0.369224\tvalid_1's auc: 0.844743\tvalid_1's binary_logloss: 0.380163\n",
      "[50]\ttraining's auc: 0.860024\ttraining's binary_logloss: 0.368966\tvalid_1's auc: 0.84494\tvalid_1's binary_logloss: 0.379935\n",
      "[51]\ttraining's auc: 0.860279\ttraining's binary_logloss: 0.368668\tvalid_1's auc: 0.845092\tvalid_1's binary_logloss: 0.379754\n",
      "[52]\ttraining's auc: 0.860464\ttraining's binary_logloss: 0.368414\tvalid_1's auc: 0.84522\tvalid_1's binary_logloss: 0.379572\n",
      "[53]\ttraining's auc: 0.860592\ttraining's binary_logloss: 0.36819\tvalid_1's auc: 0.845294\tvalid_1's binary_logloss: 0.379434\n",
      "[54]\ttraining's auc: 0.860693\ttraining's binary_logloss: 0.368053\tvalid_1's auc: 0.845373\tvalid_1's binary_logloss: 0.37933\n",
      "[55]\ttraining's auc: 0.860811\ttraining's binary_logloss: 0.367885\tvalid_1's auc: 0.845445\tvalid_1's binary_logloss: 0.379255\n",
      "[56]\ttraining's auc: 0.860926\ttraining's binary_logloss: 0.367735\tvalid_1's auc: 0.845532\tvalid_1's binary_logloss: 0.379145\n",
      "[57]\ttraining's auc: 0.861055\ttraining's binary_logloss: 0.367596\tvalid_1's auc: 0.845591\tvalid_1's binary_logloss: 0.379074\n",
      "[58]\ttraining's auc: 0.861265\ttraining's binary_logloss: 0.367335\tvalid_1's auc: 0.845703\tvalid_1's binary_logloss: 0.378922\n",
      "[59]\ttraining's auc: 0.861397\ttraining's binary_logloss: 0.367205\tvalid_1's auc: 0.845786\tvalid_1's binary_logloss: 0.378848\n",
      "[60]\ttraining's auc: 0.861502\ttraining's binary_logloss: 0.367083\tvalid_1's auc: 0.845853\tvalid_1's binary_logloss: 0.378762\n",
      "[61]\ttraining's auc: 0.861686\ttraining's binary_logloss: 0.366814\tvalid_1's auc: 0.845997\tvalid_1's binary_logloss: 0.378579\n",
      "[62]\ttraining's auc: 0.861784\ttraining's binary_logloss: 0.366686\tvalid_1's auc: 0.846072\tvalid_1's binary_logloss: 0.378493\n",
      "[63]\ttraining's auc: 0.861885\ttraining's binary_logloss: 0.366566\tvalid_1's auc: 0.846122\tvalid_1's binary_logloss: 0.37843\n",
      "[64]\ttraining's auc: 0.862011\ttraining's binary_logloss: 0.366393\tvalid_1's auc: 0.846223\tvalid_1's binary_logloss: 0.378295\n",
      "[65]\ttraining's auc: 0.862248\ttraining's binary_logloss: 0.366109\tvalid_1's auc: 0.846356\tvalid_1's binary_logloss: 0.378132\n",
      "[66]\ttraining's auc: 0.862405\ttraining's binary_logloss: 0.36588\tvalid_1's auc: 0.846486\tvalid_1's binary_logloss: 0.377966\n",
      "[67]\ttraining's auc: 0.862549\ttraining's binary_logloss: 0.365704\tvalid_1's auc: 0.84656\tvalid_1's binary_logloss: 0.377871\n",
      "[68]\ttraining's auc: 0.862634\ttraining's binary_logloss: 0.365592\tvalid_1's auc: 0.846615\tvalid_1's binary_logloss: 0.377804\n",
      "[69]\ttraining's auc: 0.862717\ttraining's binary_logloss: 0.365503\tvalid_1's auc: 0.84666\tvalid_1's binary_logloss: 0.377752\n",
      "[70]\ttraining's auc: 0.862855\ttraining's binary_logloss: 0.365343\tvalid_1's auc: 0.846741\tvalid_1's binary_logloss: 0.377669\n",
      "[71]\ttraining's auc: 0.862929\ttraining's binary_logloss: 0.365257\tvalid_1's auc: 0.846786\tvalid_1's binary_logloss: 0.377623\n",
      "[72]\ttraining's auc: 0.863043\ttraining's binary_logloss: 0.365081\tvalid_1's auc: 0.846832\tvalid_1's binary_logloss: 0.377568\n",
      "[73]\ttraining's auc: 0.863132\ttraining's binary_logloss: 0.364976\tvalid_1's auc: 0.846897\tvalid_1's binary_logloss: 0.377489\n",
      "[74]\ttraining's auc: 0.86321\ttraining's binary_logloss: 0.364882\tvalid_1's auc: 0.846928\tvalid_1's binary_logloss: 0.377457\n",
      "[75]\ttraining's auc: 0.863359\ttraining's binary_logloss: 0.364697\tvalid_1's auc: 0.847011\tvalid_1's binary_logloss: 0.37736\n",
      "[76]\ttraining's auc: 0.863495\ttraining's binary_logloss: 0.364489\tvalid_1's auc: 0.84709\tvalid_1's binary_logloss: 0.377262\n",
      "[77]\ttraining's auc: 0.863562\ttraining's binary_logloss: 0.364408\tvalid_1's auc: 0.84711\tvalid_1's binary_logloss: 0.377227\n",
      "[78]\ttraining's auc: 0.863641\ttraining's binary_logloss: 0.364305\tvalid_1's auc: 0.847157\tvalid_1's binary_logloss: 0.377167\n",
      "[79]\ttraining's auc: 0.863715\ttraining's binary_logloss: 0.364191\tvalid_1's auc: 0.847195\tvalid_1's binary_logloss: 0.377111\n",
      "[80]\ttraining's auc: 0.863807\ttraining's binary_logloss: 0.364063\tvalid_1's auc: 0.84724\tvalid_1's binary_logloss: 0.377047\n",
      "[81]\ttraining's auc: 0.863918\ttraining's binary_logloss: 0.363909\tvalid_1's auc: 0.847315\tvalid_1's binary_logloss: 0.376963\n",
      "[82]\ttraining's auc: 0.864049\ttraining's binary_logloss: 0.363773\tvalid_1's auc: 0.847393\tvalid_1's binary_logloss: 0.376893\n",
      "[83]\ttraining's auc: 0.864207\ttraining's binary_logloss: 0.363552\tvalid_1's auc: 0.847497\tvalid_1's binary_logloss: 0.376758\n",
      "[84]\ttraining's auc: 0.86434\ttraining's binary_logloss: 0.36337\tvalid_1's auc: 0.847581\tvalid_1's binary_logloss: 0.376652\n",
      "[85]\ttraining's auc: 0.864477\ttraining's binary_logloss: 0.36322\tvalid_1's auc: 0.847625\tvalid_1's binary_logloss: 0.376608\n",
      "[86]\ttraining's auc: 0.864554\ttraining's binary_logloss: 0.363136\tvalid_1's auc: 0.847676\tvalid_1's binary_logloss: 0.376547\n",
      "[87]\ttraining's auc: 0.864674\ttraining's binary_logloss: 0.362965\tvalid_1's auc: 0.847728\tvalid_1's binary_logloss: 0.376468\n",
      "[88]\ttraining's auc: 0.864737\ttraining's binary_logloss: 0.362893\tvalid_1's auc: 0.847753\tvalid_1's binary_logloss: 0.376433\n",
      "[89]\ttraining's auc: 0.864829\ttraining's binary_logloss: 0.362752\tvalid_1's auc: 0.847799\tvalid_1's binary_logloss: 0.376364\n",
      "[90]\ttraining's auc: 0.864888\ttraining's binary_logloss: 0.36268\tvalid_1's auc: 0.847826\tvalid_1's binary_logloss: 0.376324\n",
      "[91]\ttraining's auc: 0.86499\ttraining's binary_logloss: 0.362555\tvalid_1's auc: 0.847875\tvalid_1's binary_logloss: 0.376264\n",
      "[92]\ttraining's auc: 0.865048\ttraining's binary_logloss: 0.36248\tvalid_1's auc: 0.8479\tvalid_1's binary_logloss: 0.376227\n",
      "[93]\ttraining's auc: 0.86511\ttraining's binary_logloss: 0.362412\tvalid_1's auc: 0.847922\tvalid_1's binary_logloss: 0.376205\n",
      "[94]\ttraining's auc: 0.865252\ttraining's binary_logloss: 0.362261\tvalid_1's auc: 0.848004\tvalid_1's binary_logloss: 0.37612\n",
      "[95]\ttraining's auc: 0.865317\ttraining's binary_logloss: 0.36219\tvalid_1's auc: 0.848018\tvalid_1's binary_logloss: 0.376105\n",
      "[96]\ttraining's auc: 0.865432\ttraining's binary_logloss: 0.362049\tvalid_1's auc: 0.848067\tvalid_1's binary_logloss: 0.376041\n",
      "[97]\ttraining's auc: 0.865492\ttraining's binary_logloss: 0.361971\tvalid_1's auc: 0.848101\tvalid_1's binary_logloss: 0.376003\n",
      "[98]\ttraining's auc: 0.865546\ttraining's binary_logloss: 0.361897\tvalid_1's auc: 0.848122\tvalid_1's binary_logloss: 0.375968\n",
      "[99]\ttraining's auc: 0.865599\ttraining's binary_logloss: 0.361825\tvalid_1's auc: 0.848129\tvalid_1's binary_logloss: 0.375943\n",
      "[100]\ttraining's auc: 0.865688\ttraining's binary_logloss: 0.361708\tvalid_1's auc: 0.848164\tvalid_1's binary_logloss: 0.375914\n",
      "Did not meet early stopping. Best iteration is:\n",
      "[100]\ttraining's auc: 0.865688\ttraining's binary_logloss: 0.361708\tvalid_1's auc: 0.848164\tvalid_1's binary_logloss: 0.375914\n"
     ]
    },
    {
     "data": {
      "image/png": "[encoded data removed]",
      "text/plain": [
       "<Figure size 720x360 with 1 Axes>"
      ]
     },
     "metadata": {
      "needs_background": "light"
     },
     "output_type": "display_data"
    }
   ],
   "source": [
    "from lightgbm import LGBMClassifier\n",
    "\n",
    "\n",
    "gbm = LGBMClassifier(n_estimator = 2000, objective='binary' ,max_depth  =10)\n",
    "gbm.fit(x_train, y_train, early_stopping_rounds=100, eval_metric='auc', \n",
    "        eval_set=[(x_train, y_train), (x_valid, y_valid)],\n",
    "        feature_name =['integer_feature_1', 'integer_feature_2', 'integer_feature_3',\n",
    "       'integer_feature_4', 'integer_feature_5', 'integer_feature_6',\n",
    "       'integer_feature_7', 'integer_feature_8', 'categorical_feature_1',\n",
    "       'categorical_feature_2', 'categorical_feature_3',\n",
    "       'categorical_feature_4', 'categorical_feature_5',\n",
    "       'categorical_feature_6', 'categorical_feature_7',\n",
    "       'categorical_feature_8', 'categorical_feature_9'], \n",
    "        categorical_feature =cate_features)\n",
    "\n",
    "import matplotlib.pyplot as plt\n",
    "import seaborn as sns\n",
    "feature_imp = pd.DataFrame(sorted(zip(gbm.feature_importances_,x_train.columns)), columns=['Value','Feature'])\n",
    "plt.figure(figsize=(10, 5))\n",
    "sns.barplot(x=\"Value\", y=\"Feature\", data=feature_imp.sort_values(by=\"Value\", ascending=False))\n",
    "plt.title('LightGBM Features')\n",
    "plt.tight_layout()\n",
    "plt.show()"
   ]
  },
  {
   "cell_type": "markdown",
   "metadata": {},
   "source": [
    "categorical_feature7, 5, 4 의 순으로 변수중요도를 확인"
   ]
  },
  {
   "cell_type": "code",
   "execution_count": 81,
   "metadata": {},
   "outputs": [
    {
     "data": {
      "text/plain": [
       "Text(0.5, 1.0, 'AUC')"
      ]
     },
     "execution_count": 81,
     "metadata": {},
     "output_type": "execute_result"
    },
    {
     "data": {
      "image/png": "[encoded data removed]",
      "text/plain": [
       "<Figure size 432x288 with 1 Axes>"
      ]
     },
     "metadata": {
      "needs_background": "light"
     },
     "output_type": "display_data"
    }
   ],
   "source": [
    "plt.plot(gbm.evals_result_['training']['auc'], label = 'training')\n",
    "plt.plot(gbm.evals_result_['valid_1']['auc'], label = 'valid_1')\n",
    "plt.legend()\n",
    "plt.title('AUC')"
   ]
  },
  {
   "cell_type": "code",
   "execution_count": 87,
   "metadata": {},
   "outputs": [
    {
     "data": {
      "text/plain": [
       "0.848164240328708"
      ]
     },
     "execution_count": 87,
     "metadata": {},
     "output_type": "execute_result"
    }
   ],
   "source": [
    "gbm.evals_result_['valid_1']['auc'][-1]"
   ]
  },
  {
   "cell_type": "code",
   "execution_count": 82,
   "metadata": {},
   "outputs": [
    {
     "data": {
      "text/plain": [
       "<matplotlib.axes._subplots.AxesSubplot at 0x7f2886af0f60>"
      ]
     },
     "execution_count": 82,
     "metadata": {},
     "output_type": "execute_result"
    },
    {
     "data": {
      "image/png": "[encoded data removed]",
      "text/plain": [
       "<Figure size 432x288 with 1 Axes>"
      ]
     },
     "metadata": {
      "needs_background": "light"
     },
     "output_type": "display_data"
    }
   ],
   "source": [
    "import lightgbm as lgb\n",
    "lgb.plot_metric(gbm)"
   ]
  },
  {
   "cell_type": "code",
   "execution_count": 93,
   "metadata": {},
   "outputs": [
    {
     "name": "stdout",
     "output_type": "stream",
     "text": [
      "valid Loss 0.3759\n",
      "valid  Accuracy Score :,  0.8482\n"
     ]
    }
   ],
   "source": [
    "print(\"valid Loss :\", round(gbm.evals_result_['valid_1']['binary_logloss'][-1], 4))\n",
    "print(\"valid  Accuracy Score :\", round(gbm.evals_result_['valid_1']['auc'][-1], 4))"
   ]
  },
  {
   "cell_type": "markdown",
   "metadata": {},
   "source": [
    "# 5.제출"
   ]
  },
  {
   "cell_type": "code",
   "execution_count": 94,
   "metadata": {},
   "outputs": [
    {
     "data": {
      "text/html": [
       "<div>\n",
       "<style scoped>\n",
       "    .dataframe tbody tr th:only-of-type {\n",
       "        vertical-align: middle;\n",
       "    }\n",
       "\n",
       "    .dataframe tbody tr th {\n",
       "        vertical-align: top;\n",
       "    }\n",
       "\n",
       "    .dataframe thead th {\n",
       "        text-align: right;\n",
       "    }\n",
       "</style>\n",
       "<table border=\"1\" class=\"dataframe\">\n",
       "  <thead>\n",
       "    <tr style=\"text-align: right;\">\n",
       "      <th></th>\n",
       "      <th>id</th>\n",
       "      <th>predicted</th>\n",
       "    </tr>\n",
       "  </thead>\n",
       "  <tbody>\n",
       "    <tr>\n",
       "      <th>0</th>\n",
       "      <td>1</td>\n",
       "      <td>0.35414</td>\n",
       "    </tr>\n",
       "    <tr>\n",
       "      <th>1</th>\n",
       "      <td>2</td>\n",
       "      <td>0.03357</td>\n",
       "    </tr>\n",
       "    <tr>\n",
       "      <th>2</th>\n",
       "      <td>3</td>\n",
       "      <td>0.26336</td>\n",
       "    </tr>\n",
       "    <tr>\n",
       "      <th>3</th>\n",
       "      <td>4</td>\n",
       "      <td>0.66577</td>\n",
       "    </tr>\n",
       "    <tr>\n",
       "      <th>4</th>\n",
       "      <td>5</td>\n",
       "      <td>0.21863</td>\n",
       "    </tr>\n",
       "    <tr>\n",
       "      <th>...</th>\n",
       "      <td>...</td>\n",
       "      <td>...</td>\n",
       "    </tr>\n",
       "    <tr>\n",
       "      <th>498548</th>\n",
       "      <td>498549</td>\n",
       "      <td>0.15842</td>\n",
       "    </tr>\n",
       "    <tr>\n",
       "      <th>498549</th>\n",
       "      <td>498550</td>\n",
       "      <td>0.29359</td>\n",
       "    </tr>\n",
       "    <tr>\n",
       "      <th>498550</th>\n",
       "      <td>498551</td>\n",
       "      <td>0.00648</td>\n",
       "    </tr>\n",
       "    <tr>\n",
       "      <th>498551</th>\n",
       "      <td>498552</td>\n",
       "      <td>0.12348</td>\n",
       "    </tr>\n",
       "    <tr>\n",
       "      <th>498552</th>\n",
       "      <td>498553</td>\n",
       "      <td>0.03103</td>\n",
       "    </tr>\n",
       "  </tbody>\n",
       "</table>\n",
       "<p>498553 rows × 2 columns</p>\n",
       "</div>"
      ],
      "text/plain": [
       "            id  predicted\n",
       "0            1    0.35414\n",
       "1            2    0.03357\n",
       "2            3    0.26336\n",
       "3            4    0.66577\n",
       "4            5    0.21863\n",
       "...        ...        ...\n",
       "498548  498549    0.15842\n",
       "498549  498550    0.29359\n",
       "498550  498551    0.00648\n",
       "498551  498552    0.12348\n",
       "498552  498553    0.03103\n",
       "\n",
       "[498553 rows x 2 columns]"
      ]
     },
     "execution_count": 94,
     "metadata": {},
     "output_type": "execute_result"
    }
   ],
   "source": [
    "y_pred = gbm.predict_proba(test_raw.iloc[:,2:])[:,1]\n",
    "\n",
    "submission = pd.DataFrame(columns = ['id','predicted'], dtype='float')\n",
    "submission['id'] = test_raw['id']\n",
    "submission['predicted'] = y_pred\n",
    "submission"
   ]
  },
  {
   "cell_type": "code",
   "execution_count": 96,
   "metadata": {},
   "outputs": [],
   "source": [
    "submission.to_csv('submission_dyyoon.csv',index=False)"
   ]
  },
  {
   "cell_type": "markdown",
   "metadata": {},
   "source": [
    "# 6.결론"
   ]
  },
  {
   "cell_type": "markdown",
   "metadata": {},
   "source": [
    "LightGBM모델, DeepFM모델을 모두 활용해 보았으나 accuracy, logloss에서 LightGBM모델이 좋은 결과를 도출하여 <BR> \n",
    "최종적으로 LightGBM모델을 활용<BR>\n",
    "\n",
    "LightGBM모델을 통해 변수중요도를 확인하였으며<BR>\n",
    "최종 TEST데이터의 출력값을 추출<BR>"
   ]
  }
 ],
 "metadata": {
  "kernelspec": {
   "display_name": "Python 3",
   "language": "python",
   "name": "python3"
  },
  "language_info": {
   "codemirror_mode": {
    "name": "ipython",
    "version": 3
   },
   "file_extension": ".py",
   "mimetype": "text/x-python",
   "name": "python",
   "nbconvert_exporter": "python",
   "pygments_lexer": "ipython3",
   "version": "3.6.9"
  }
 },
 "nbformat": 4,
 "nbformat_minor": 4
}
